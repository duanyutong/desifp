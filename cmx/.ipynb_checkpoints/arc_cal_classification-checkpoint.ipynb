{
 "cells": [
  {
   "cell_type": "code",
   "execution_count": 245,
   "metadata": {},
   "outputs": [],
   "source": [
    "import pandas as pd\n",
    "idx = pd.IndexSlice\n",
    "\n",
    "path = r'K:\\Google Drive\\DESI\\commissioning\\sticky_pos\\00046364-arc_calibration-754_disabled\\calibdf.pkl.gz'\n",
    "calibdf = pd.read_pickle(path)['FIT']\n",
    "labels = ['normal_theta', 'dead_theta', 'linear_theta', 'offset_theta', 'sticky_theta',\n",
    "          'normal_phi', 'dead_phi', 'linear_phi', 'offset_phi', 'sticky_phi']\n",
    "for label in labels:\n",
    "    calibdf[label] = False\n",
    "path = r'K:\\Google Drive\\DESI\\commissioning\\sticky_pos\\00046364-arc_calibration-754_disabled\\movedf.pkl.gz'\n",
    "movedf = pd.read_pickle(path)\n",
    "for posid in calibdf.index:\n",
    "    for axis in ['T', 'P']:\n",
    "        moves = movedf.loc[idx[axis, :, posid]]\n",
    "        # minimum (adjacent) pair separation\n",
    "        calibdf.loc[posid, f'min_adj_pair_sep_{axis}'] = (moves[f'exp_posint{axis}']%360).diff().abs().min()\n",
    "        calibdf.loc[posid, f'max_err_{axis}'] = moves[f'err_posint{axis}'].abs().max()        "
   ]
  },
  {
   "cell_type": "code",
   "execution_count": null,
   "metadata": {},
   "outputs": [],
   "source": [
    "movedf.loc[idx['P', :, 'M00469']][['exp_posintP', 'tgt_posintP']]"
   ]
  },
  {
   "cell_type": "code",
   "execution_count": 249,
   "metadata": {},
   "outputs": [
    {
     "data": {
      "text/html": [
       "<div>\n",
       "<style scoped>\n",
       "    .dataframe tbody tr th:only-of-type {\n",
       "        vertical-align: middle;\n",
       "    }\n",
       "\n",
       "    .dataframe tbody tr th {\n",
       "        vertical-align: top;\n",
       "    }\n",
       "\n",
       "    .dataframe thead th {\n",
       "        text-align: right;\n",
       "    }\n",
       "</style>\n",
       "<table border=\"1\" class=\"dataframe\">\n",
       "  <thead>\n",
       "    <tr style=\"text-align: right;\">\n",
       "      <th></th>\n",
       "      <th></th>\n",
       "      <th></th>\n",
       "      <th>exp_posintT</th>\n",
       "      <th>tgt_posintT</th>\n",
       "      <th>err_posintT</th>\n",
       "    </tr>\n",
       "    <tr>\n",
       "      <th>axis</th>\n",
       "      <th>target_no</th>\n",
       "      <th>DEVICE_ID</th>\n",
       "      <th></th>\n",
       "      <th></th>\n",
       "      <th></th>\n",
       "    </tr>\n",
       "  </thead>\n",
       "  <tbody>\n",
       "    <tr>\n",
       "      <th rowspan=\"6\" valign=\"top\">T</th>\n",
       "      <th>0</th>\n",
       "      <th>M00469</th>\n",
       "      <td>80.377003</td>\n",
       "      <td>-190.511815</td>\n",
       "      <td>270.888818</td>\n",
       "    </tr>\n",
       "    <tr>\n",
       "      <th>1</th>\n",
       "      <th>M00469</th>\n",
       "      <td>155.613292</td>\n",
       "      <td>-114.907089</td>\n",
       "      <td>270.520381</td>\n",
       "    </tr>\n",
       "    <tr>\n",
       "      <th>2</th>\n",
       "      <th>M00469</th>\n",
       "      <td>-128.525062</td>\n",
       "      <td>-39.302363</td>\n",
       "      <td>-89.222698</td>\n",
       "    </tr>\n",
       "    <tr>\n",
       "      <th>3</th>\n",
       "      <th>M00469</th>\n",
       "      <td>-53.190825</td>\n",
       "      <td>36.302363</td>\n",
       "      <td>-89.493188</td>\n",
       "    </tr>\n",
       "    <tr>\n",
       "      <th>4</th>\n",
       "      <th>M00469</th>\n",
       "      <td>22.734775</td>\n",
       "      <td>111.907089</td>\n",
       "      <td>-89.172314</td>\n",
       "    </tr>\n",
       "    <tr>\n",
       "      <th>5</th>\n",
       "      <th>M00469</th>\n",
       "      <td>98.370332</td>\n",
       "      <td>187.511815</td>\n",
       "      <td>-89.141484</td>\n",
       "    </tr>\n",
       "  </tbody>\n",
       "</table>\n",
       "</div>"
      ],
      "text/plain": [
       "                          exp_posintT  tgt_posintT  err_posintT\n",
       "axis target_no DEVICE_ID                                       \n",
       "T    0         M00469       80.377003  -190.511815   270.888818\n",
       "     1         M00469      155.613292  -114.907089   270.520381\n",
       "     2         M00469     -128.525062   -39.302363   -89.222698\n",
       "     3         M00469      -53.190825    36.302363   -89.493188\n",
       "     4         M00469       22.734775   111.907089   -89.172314\n",
       "     5         M00469       98.370332   187.511815   -89.141484"
      ]
     },
     "execution_count": 249,
     "metadata": {},
     "output_type": "execute_result"
    }
   ],
   "source": [
    "movedf.loc[idx['T', :, 'M00469']][['exp_posintT', 'tgt_posintT', 'err_posintT']]"
   ]
  },
  {
   "cell_type": "code",
   "execution_count": 241,
   "metadata": {},
   "outputs": [],
   "source": [
    "def classify_pos(grt, grp, at, ap, rt, rp, minapst, minapsp, maxet, maxep):\n",
    "    labels_t, labels_p = set(), set()\n",
    "    # theta arc\n",
    "    if 0.8 < grt < 1.3 and at > 200:\n",
    "        labels_t.add('normal_theta')\n",
    "    if at < 100:\n",
    "        labels_t.add('dead_theta')\n",
    "    if grt < 0.8 and minapst < 20:\n",
    "        labels_t.add('offset_theta')\n",
    "    if 0.2<abs(grt-1)<0.8 and abs(rt) > 0.973:\n",
    "        labels_t.add('linear_theta')\n",
    "    # phi arc\n",
    "    if (grp < 0.3 or 1.3 < grp) and ap < 1 and abs(rp) < 97 and minapsp < 5:\n",
    "        labels_p.add('dead_phi')\n",
    "    if abs(grp-1) > 0.12 and ap > 1 and abs(rp) > 0.97:\n",
    "        labels_p.add('linear_phi')\n",
    "    if abs(grp-1) > 0.17 and 1 < ap < 4.1 and abs(rp) < 0.97 and minapsp > 5:\n",
    "        labels_p.add('sticky_phi')  # M01484\n",
    "    if 0.925 < grp < 1.1 and ap > 4 and minapsp > 5 and maxep < 1:\n",
    "        labels_p.add('normal_phi')\n",
    "    if 0.07 < abs(grp-1) < 0.2 and ap > 1 and minapsp < 1:\n",
    "            labels_p.add('offset_phi')  # M00469, M01497\n",
    "    if not len(labels_t) == len(labels_p) == 1:\n",
    "        print(labels_t, labels_p)\n",
    "        import pdb; pdb.set_trace()\n",
    "    return labels_t, labels_p"
   ]
  },
  {
   "cell_type": "code",
   "execution_count": 242,
   "metadata": {},
   "outputs": [
    {
     "name": "stdout",
     "output_type": "stream",
     "text": [
      "M00411\n",
      "M00436\n",
      "M00469\n",
      "{'normal_theta'} set()\n",
      "> <ipython-input-241-b297ce29e95e>(26)classify_pos()\n",
      "-> return labels_t, labels_p\n"
     ]
    },
    {
     "name": "stdin",
     "output_type": "stream",
     "text": [
      "(Pdb)  q\n"
     ]
    },
    {
     "ename": "BdbQuit",
     "evalue": "",
     "output_type": "error",
     "traceback": [
      "\u001b[1;31m---------------------------------------------------------------------------\u001b[0m",
      "\u001b[1;31mBdbQuit\u001b[0m                                   Traceback (most recent call last)",
      "\u001b[1;32m<ipython-input-242-50a514a10d93>\u001b[0m in \u001b[0;36m<module>\u001b[1;34m\u001b[0m\n\u001b[0;32m      3\u001b[0m     row = calibdf.loc[posid, ['GEAR_CALIB_T', 'GEAR_CALIB_P', 'area_T', 'area_P', 'rvalue_T', 'rvalue_P',\n\u001b[0;32m      4\u001b[0m                               'min_adj_pair_sep_T', 'min_adj_pair_sep_P', 'max_err_T', 'max_err_P']]\n\u001b[1;32m----> 5\u001b[1;33m     \u001b[0mlabels_t\u001b[0m\u001b[1;33m,\u001b[0m \u001b[0mlabels_p\u001b[0m \u001b[1;33m=\u001b[0m \u001b[0mclassify_pos\u001b[0m\u001b[1;33m(\u001b[0m\u001b[1;33m*\u001b[0m\u001b[0mrow\u001b[0m\u001b[1;33m)\u001b[0m\u001b[1;33m\u001b[0m\u001b[1;33m\u001b[0m\u001b[0m\n\u001b[0m\u001b[0;32m      6\u001b[0m     \u001b[1;32mfor\u001b[0m \u001b[0mlabel\u001b[0m \u001b[1;32min\u001b[0m \u001b[0mlabels_t\u001b[0m \u001b[1;33m|\u001b[0m \u001b[0mlabels_p\u001b[0m\u001b[1;33m:\u001b[0m\u001b[1;33m\u001b[0m\u001b[1;33m\u001b[0m\u001b[0m\n\u001b[0;32m      7\u001b[0m         \u001b[0mcalibdf\u001b[0m\u001b[1;33m.\u001b[0m\u001b[0mloc\u001b[0m\u001b[1;33m[\u001b[0m\u001b[0mposid\u001b[0m\u001b[1;33m,\u001b[0m \u001b[0mlabel\u001b[0m\u001b[1;33m]\u001b[0m \u001b[1;33m=\u001b[0m \u001b[1;32mTrue\u001b[0m\u001b[1;33m\u001b[0m\u001b[1;33m\u001b[0m\u001b[0m\n",
      "\u001b[1;32m<ipython-input-241-b297ce29e95e>\u001b[0m in \u001b[0;36mclassify_pos\u001b[1;34m(grt, grp, at, ap, rt, rp, minapst, minapsp, maxet, maxep)\u001b[0m\n\u001b[0;32m     24\u001b[0m         \u001b[0mprint\u001b[0m\u001b[1;33m(\u001b[0m\u001b[0mlabels_t\u001b[0m\u001b[1;33m,\u001b[0m \u001b[0mlabels_p\u001b[0m\u001b[1;33m)\u001b[0m\u001b[1;33m\u001b[0m\u001b[1;33m\u001b[0m\u001b[0m\n\u001b[0;32m     25\u001b[0m         \u001b[1;32mimport\u001b[0m \u001b[0mpdb\u001b[0m\u001b[1;33m;\u001b[0m \u001b[0mpdb\u001b[0m\u001b[1;33m.\u001b[0m\u001b[0mset_trace\u001b[0m\u001b[1;33m(\u001b[0m\u001b[1;33m)\u001b[0m\u001b[1;33m\u001b[0m\u001b[1;33m\u001b[0m\u001b[0m\n\u001b[1;32m---> 26\u001b[1;33m     \u001b[1;32mreturn\u001b[0m \u001b[0mlabels_t\u001b[0m\u001b[1;33m,\u001b[0m \u001b[0mlabels_p\u001b[0m\u001b[1;33m\u001b[0m\u001b[1;33m\u001b[0m\u001b[0m\n\u001b[0m",
      "\u001b[1;32m<ipython-input-241-b297ce29e95e>\u001b[0m in \u001b[0;36mclassify_pos\u001b[1;34m(grt, grp, at, ap, rt, rp, minapst, minapsp, maxet, maxep)\u001b[0m\n\u001b[0;32m     24\u001b[0m         \u001b[0mprint\u001b[0m\u001b[1;33m(\u001b[0m\u001b[0mlabels_t\u001b[0m\u001b[1;33m,\u001b[0m \u001b[0mlabels_p\u001b[0m\u001b[1;33m)\u001b[0m\u001b[1;33m\u001b[0m\u001b[1;33m\u001b[0m\u001b[0m\n\u001b[0;32m     25\u001b[0m         \u001b[1;32mimport\u001b[0m \u001b[0mpdb\u001b[0m\u001b[1;33m;\u001b[0m \u001b[0mpdb\u001b[0m\u001b[1;33m.\u001b[0m\u001b[0mset_trace\u001b[0m\u001b[1;33m(\u001b[0m\u001b[1;33m)\u001b[0m\u001b[1;33m\u001b[0m\u001b[1;33m\u001b[0m\u001b[0m\n\u001b[1;32m---> 26\u001b[1;33m     \u001b[1;32mreturn\u001b[0m \u001b[0mlabels_t\u001b[0m\u001b[1;33m,\u001b[0m \u001b[0mlabels_p\u001b[0m\u001b[1;33m\u001b[0m\u001b[1;33m\u001b[0m\u001b[0m\n\u001b[0m",
      "\u001b[1;32m~\\Anaconda3\\lib\\bdb.py\u001b[0m in \u001b[0;36mtrace_dispatch\u001b[1;34m(self, frame, event, arg)\u001b[0m\n\u001b[0;32m     86\u001b[0m             \u001b[1;32mreturn\u001b[0m \u001b[1;31m# None\u001b[0m\u001b[1;33m\u001b[0m\u001b[1;33m\u001b[0m\u001b[0m\n\u001b[0;32m     87\u001b[0m         \u001b[1;32mif\u001b[0m \u001b[0mevent\u001b[0m \u001b[1;33m==\u001b[0m \u001b[1;34m'line'\u001b[0m\u001b[1;33m:\u001b[0m\u001b[1;33m\u001b[0m\u001b[1;33m\u001b[0m\u001b[0m\n\u001b[1;32m---> 88\u001b[1;33m             \u001b[1;32mreturn\u001b[0m \u001b[0mself\u001b[0m\u001b[1;33m.\u001b[0m\u001b[0mdispatch_line\u001b[0m\u001b[1;33m(\u001b[0m\u001b[0mframe\u001b[0m\u001b[1;33m)\u001b[0m\u001b[1;33m\u001b[0m\u001b[1;33m\u001b[0m\u001b[0m\n\u001b[0m\u001b[0;32m     89\u001b[0m         \u001b[1;32mif\u001b[0m \u001b[0mevent\u001b[0m \u001b[1;33m==\u001b[0m \u001b[1;34m'call'\u001b[0m\u001b[1;33m:\u001b[0m\u001b[1;33m\u001b[0m\u001b[1;33m\u001b[0m\u001b[0m\n\u001b[0;32m     90\u001b[0m             \u001b[1;32mreturn\u001b[0m \u001b[0mself\u001b[0m\u001b[1;33m.\u001b[0m\u001b[0mdispatch_call\u001b[0m\u001b[1;33m(\u001b[0m\u001b[0mframe\u001b[0m\u001b[1;33m,\u001b[0m \u001b[0marg\u001b[0m\u001b[1;33m)\u001b[0m\u001b[1;33m\u001b[0m\u001b[1;33m\u001b[0m\u001b[0m\n",
      "\u001b[1;32m~\\Anaconda3\\lib\\bdb.py\u001b[0m in \u001b[0;36mdispatch_line\u001b[1;34m(self, frame)\u001b[0m\n\u001b[0;32m    111\u001b[0m         \u001b[1;32mif\u001b[0m \u001b[0mself\u001b[0m\u001b[1;33m.\u001b[0m\u001b[0mstop_here\u001b[0m\u001b[1;33m(\u001b[0m\u001b[0mframe\u001b[0m\u001b[1;33m)\u001b[0m \u001b[1;32mor\u001b[0m \u001b[0mself\u001b[0m\u001b[1;33m.\u001b[0m\u001b[0mbreak_here\u001b[0m\u001b[1;33m(\u001b[0m\u001b[0mframe\u001b[0m\u001b[1;33m)\u001b[0m\u001b[1;33m:\u001b[0m\u001b[1;33m\u001b[0m\u001b[1;33m\u001b[0m\u001b[0m\n\u001b[0;32m    112\u001b[0m             \u001b[0mself\u001b[0m\u001b[1;33m.\u001b[0m\u001b[0muser_line\u001b[0m\u001b[1;33m(\u001b[0m\u001b[0mframe\u001b[0m\u001b[1;33m)\u001b[0m\u001b[1;33m\u001b[0m\u001b[1;33m\u001b[0m\u001b[0m\n\u001b[1;32m--> 113\u001b[1;33m             \u001b[1;32mif\u001b[0m \u001b[0mself\u001b[0m\u001b[1;33m.\u001b[0m\u001b[0mquitting\u001b[0m\u001b[1;33m:\u001b[0m \u001b[1;32mraise\u001b[0m \u001b[0mBdbQuit\u001b[0m\u001b[1;33m\u001b[0m\u001b[1;33m\u001b[0m\u001b[0m\n\u001b[0m\u001b[0;32m    114\u001b[0m         \u001b[1;32mreturn\u001b[0m \u001b[0mself\u001b[0m\u001b[1;33m.\u001b[0m\u001b[0mtrace_dispatch\u001b[0m\u001b[1;33m\u001b[0m\u001b[1;33m\u001b[0m\u001b[0m\n\u001b[0;32m    115\u001b[0m \u001b[1;33m\u001b[0m\u001b[0m\n",
      "\u001b[1;31mBdbQuit\u001b[0m: "
     ]
    }
   ],
   "source": [
    "for posid in df.index:\n",
    "    print(posid)\n",
    "    row = calibdf.loc[posid, ['GEAR_CALIB_T', 'GEAR_CALIB_P', 'area_T', 'area_P', 'rvalue_T', 'rvalue_P',\n",
    "                              'min_adj_pair_sep_T', 'min_adj_pair_sep_P', 'max_err_T', 'max_err_P']]\n",
    "    labels_t, labels_p = classify_pos(*row)\n",
    "    for label in labels_t | labels_p:\n",
    "        calibdf.loc[posid, label] = True"
   ]
  },
  {
   "cell_type": "code",
   "execution_count": 158,
   "metadata": {},
   "outputs": [
    {
     "name": "stdout",
     "output_type": "stream",
     "text": [
      "normal theta and phi (268 positioners):\n",
      "\n",
      "M00411, M00469, M00636, M01033, M01081, M01092, M01094, M01133, M01222, M01228, M01383, M01468, M01476, M01496, M01502, M01540, M01613, M01691, M01750, M01768, M01786, M01789, M01841, M01859, M01861, M01887, M01934, M02117, M02128, M02251, M02258, M02261, M02265, M02272, M02284, M02287, M02328, M02349, M02373, M02378, M02413, M02467, M02474, M02492, M02533, M02543, M02575, M02580, M02587, M02624, M02641, M02649, M02654, M02666, M02682, M02699, M02720, M02737, M02762, M02781, M02801, M02818, M02835, M02848, M02871, M02899, M02904, M02913, M02919, M02922, M02926, M02939, M02969, M02976, M02981, M03001, M03029, M03045, M03077, M03117, M03119, M03121, M03168, M03175, M03197, M03212, M03219, M03242, M03247, M03253, M03271, M03289, M03304, M03317, M03352, M03367, M03405, M03409, M03416, M03417, M03527, M03561, M03570, M03583, M03707, M03803, M03901, M03947, M03977, M04009, M04089, M04110, M04124, M04244, M04270, M04276, M04381, M04398, M04408, M04436, M04441, M04453, M04458, M04462, M04493, M04510, M04519, M04550, M04562, M04563, M04606, M04608, M04610, M04618, M04623, M04624, M04626, M04641, M04701, M04761, M04771, M04801, M04873, M04909, M04910, M04912, M04914, M04916, M04960, M05040, M05076, M05093, M05098, M05106, M05167, M05316, M05403, M05459, M05486, M05517, M05583, M05600, M05615, M05629, M05662, M05678, M05711, M05747, M05767, M05801, M05809, M05831, M05839, M05932, M05936, M05940, M06090, M06195, M06198, M06201, M06212, M06220, M06278, M06294, M06299, M06418, M06503, M06548, M06590, M06685, M06695, M06697, M06699, M06714, M06757, M06768, M06770, M06774, M06794, M06813, M06815, M06821, M06875, M06883, M06913, M06931, M06942, M06963, M06976, M07022, M07093, M07108, M07110, M07120, M07122, M07127, M07129, M07142, M07169, M07180, M07187, M07195, M07216, M07229, M07237, M07238, M07241, M07243, M07251, M07258, M07259, M07261, M07264, M07267, M07270, M07287, M07289, M07294, M07295, M07296, M07313, M07339, M07466, M07504, M07529, M07589, M07590, M07600, M07656, M07679, M07710, M07733, M07757, M07913, M07915, M07916, M07917, M07946, M07947, M07963, M08030, M08054, M08058, M08135, M08180, M08190, M08208, M08217\n",
      "\n",
      "normal_theta (620 positioners):\n",
      "\n",
      "M00411, M00436, M00469, M00636, M01033, M01080, M01081, M01092, M01094, M01100, M01102, M01106, M01109, M01133, M01214, M01222, M01224, M01228, M01257, M01267, M01276, M01376, M01380, M01383, M01455, M01468, M01473, M01476, M01482, M01484, M01491, M01496, M01502, M01540, M01605, M01613, M01630, M01632, M01677, M01686, M01691, M01703, M01709, M01713, M01717, M01722, M01724, M01747, M01749, M01750, M01758, M01759, M01764, M01768, M01778, M01786, M01789, M01808, M01831, M01834, M01841, M01859, M01861, M01862, M01865, M01875, M01887, M01896, M01929, M01934, M01946, M01953, M01976, M02023, M02024, M02031, M02117, M02128, M02164, M02190, M02194, M02249, M02251, M02254, M02257, M02258, M02261, M02265, M02272, M02284, M02286, M02287, M02300, M02301, M02317, M02318, M02328, M02334, M02345, M02349, M02353, M02361, M02367, M02369, M02373, M02378, M02382, M02392, M02393, M02397, M02401, M02413, M02427, M02430, M02437, M02440, M02449, M02453, M02459, M02467, M02472, M02474, M02476, M02481, M02482, M02484, M02488, M02490, M02492, M02493, M02499, M02500, M02505, M02514, M02523, M02525, M02533, M02537, M02542, M02543, M02561, M02566, M02572, M02575, M02577, M02580, M02587, M02596, M02598, M02601, M02606, M02610, M02624, M02641, M02649, M02651, M02654, M02666, M02673, M02677, M02682, M02699, M02704, M02708, M02720, M02724, M02737, M02762, M02781, M02801, M02818, M02824, M02832, M02834, M02835, M02846, M02848, M02849, M02851, M02855, M02857, M02871, M02899, M02902, M02904, M02913, M02915, M02919, M02922, M02926, M02937, M02939, M02947, M02969, M02974, M02976, M02981, M03001, M03012, M03018, M03019, M03029, M03030, M03034, M03045, M03072, M03077, M03085, M03103, M03117, M03119, M03121, M03163, M03168, M03172, M03175, M03187, M03197, M03212, M03216, M03217, M03219, M03242, M03247, M03253, M03268, M03271, M03277, M03289, M03304, M03317, M03342, M03343, M03352, M03367, M03371, M03374, M03405, M03409, M03416, M03417, M03444, M03446, M03456, M03461, M03464, M03507, M03514, M03520, M03527, M03528, M03558, M03561, M03566, M03570, M03583, M03584, M03585, M03588, M03600, M03601, M03602, M03607, M03609, M03612, M03613, M03614, M03618, M03624, M03633, M03642, M03645, M03649, M03650, M03651, M03653, M03654, M03661, M03672, M03676, M03680, M03696, M03707, M03709, M03721, M03725, M03735, M03756, M03777, M03794, M03803, M03809, M03820, M03889, M03901, M03906, M03913, M03917, M03918, M03935, M03940, M03941, M03945, M03947, M03950, M03961, M03962, M03977, M03978, M03979, M03981, M03983, M03986, M03995, M03998, M04006, M04009, M04024, M04055, M04058, M04060, M04078, M04081, M04086, M04089, M04093, M04104, M04105, M04110, M04116, M04124, M04178, M04182, M04191, M04200, M04213, M04242, M04244, M04250, M04253, M04270, M04271, M04275, M04276, M04307, M04309, M04330, M04354, M04356, M04361, M04363, M04366, M04369, M04376, M04377, M04379, M04381, M04383, M04389, M04396, M04397, M04398, M04401, M04408, M04436, M04441, M04453, M04458, M04462, M04470, M04481, M04493, M04510, M04519, M04526, M04531, M04550, M04562, M04563, M04566, M04586, M04592, M04606, M04607, M04608, M04610, M04618, M04619, M04623, M04624, M04626, M04641, M04701, M04717, M04718, M04759, M04761, M04771, M04801, M04849, M04873, M04909, M04910, M04912, M04914, M04916, M04917, M04924, M04960, M04981, M04982, M04995, M04999, M05029, M05040, M05041, M05042, M05048, M05052, M05062, M05076, M05086, M05093, M05096, M05098, M05101, M05106, M05107, M05112, M05114, M05124, M05126, M05127, M05132, M05158, M05167, M05177, M05178, M05244, M05304, M05316, M05322, M05358, M05362, M05363, M05371, M05376, M05402, M05403, M05453, M05459, M05461, M05486, M05499, M05505, M05506, M05508, M05517, M05524, M05551, M05583, M05592, M05600, M05605, M05615, M05622, M05623, M05629, M05662, M05678, M05711, M05747, M05766, M05767, M05779, M05801, M05809, M05831, M05839, M05882, M05932, M05936, M05940, M05948, M05950, M05958, M05967, M05969, M05971, M06090, M06195, M06198, M06201, M06208, M06212, M06220, M06278, M06294, M06299, M06353, M06418, M06497, M06499, M06503, M06548, M06590, M06663, M06667, M06685, M06695, M06697, M06699, M06711, M06714, M06745, M06757, M06768, M06770, M06774, M06794, M06812, M06813, M06815, M06821, M06854, M06863, M06875, M06883, M06889, M06898, M06913, M06931, M06933, M06942, M06963, M06976, M07022, M07034, M07081, M07085, M07093, M07108, M07110, M07116, M07119, M07120, M07122, M07125, M07127, M07129, M07142, M07169, M07180, M07187, M07195, M07216, M07229, M07237, M07238, M07241, M07243, M07251, M07258, M07259, M07261, M07263, M07264, M07267, M07270, M07274, M07287, M07289, M07294, M07295, M07296, M07313, M07338, M07339, M07383, M07466, M07473, M07475, M07480, M07494, M07504, M07529, M07589, M07590, M07595, M07599, M07600, M07656, M07679, M07710, M07715, M07733, M07757, M07847, M07913, M07915, M07916, M07917, M07942, M07946, M07947, M07963, M07970, M08027, M08030, M08054, M08058, M08135, M08156, M08180, M08190, M08208, M08217, M08230, M08299, M08337\n",
      "\n",
      "dead_theta (19 positioners):\n",
      "\n",
      "M01282, M03321, M03415, M03545, M04083, M04235, M04386, M04569, M04596, M04712, M04722, M04763, M05066, M05675, M05836, M05970, M07638, M07863, M08474\n",
      "\n",
      "linear_theta (2 positioners):\n",
      "\n",
      "M03630, M03686\n",
      "\n",
      "offset_theta (113 positioners):\n",
      "\n",
      "M01497, M02721, M02725, M02731, M02733, M02734, M02747, M02763, M03003, M03008, M03009, M03020, M03024, M03026, M03037, M03061, M03067, M03073, M03075, M03082, M03086, M03092, M03099, M03108, M03118, M03126, M03133, M03137, M03151, M03191, M03199, M03230, M03250, M03254, M03256, M03285, M03296, M03315, M03319, M03322, M03327, M03334, M03348, M03356, M03361, M03379, M03390, M03392, M03408, M03418, M03427, M03452, M03455, M03469, M03508, M03510, M03556, M03567, M03572, M03581, M03587, M03589, M03639, M03655, M03659, M03684, M03688, M03710, M03712, M03733, M03816, M03871, M04451, M04507, M04547, M04595, M04601, M04775, M04843, M04882, M05264, M05361, M05471, M05530, M05612, M05952, M05961, M06410, M06601, M06612, M06723, M06861, M06874, M06891, M06986, M07271, M07403, M07427, M07505, M07550, M07588, M07591, M07651, M07688, M07695, M07747, M07862, M07873, M07888, M08083, M08141, M08221, M08249\n",
      "\n",
      "sticky_theta (0 positioners):\n",
      "\n",
      "\n",
      "\n",
      "normal_phi (343 positioners):\n",
      "\n",
      "M00411, M00469, M00636, M01033, M01081, M01092, M01094, M01133, M01222, M01228, M01383, M01468, M01476, M01496, M01497, M01502, M01540, M01613, M01691, M01750, M01768, M01786, M01789, M01841, M01859, M01861, M01887, M01934, M02117, M02128, M02251, M02258, M02261, M02265, M02272, M02284, M02287, M02328, M02349, M02373, M02378, M02413, M02467, M02474, M02492, M02533, M02543, M02575, M02580, M02587, M02624, M02641, M02649, M02654, M02666, M02682, M02699, M02720, M02721, M02731, M02737, M02747, M02762, M02763, M02781, M02801, M02818, M02835, M02848, M02871, M02899, M02904, M02913, M02919, M02922, M02926, M02939, M02969, M02976, M02981, M03001, M03003, M03009, M03029, M03045, M03067, M03075, M03077, M03108, M03117, M03119, M03121, M03133, M03137, M03151, M03168, M03175, M03191, M03197, M03212, M03219, M03230, M03242, M03247, M03250, M03253, M03254, M03271, M03285, M03289, M03296, M03304, M03315, M03317, M03319, M03321, M03322, M03334, M03352, M03361, M03367, M03379, M03392, M03405, M03408, M03409, M03416, M03417, M03418, M03427, M03452, M03469, M03510, M03527, M03561, M03567, M03570, M03572, M03583, M03589, M03630, M03639, M03659, M03686, M03688, M03707, M03710, M03712, M03803, M03901, M03947, M03977, M04009, M04083, M04089, M04110, M04124, M04244, M04270, M04276, M04381, M04398, M04408, M04436, M04441, M04451, M04453, M04458, M04462, M04493, M04507, M04510, M04519, M04547, M04550, M04562, M04563, M04595, M04601, M04606, M04608, M04610, M04618, M04623, M04624, M04626, M04641, M04701, M04722, M04761, M04771, M04801, M04873, M04909, M04910, M04912, M04914, M04916, M04960, M05040, M05066, M05076, M05093, M05098, M05106, M05167, M05264, M05316, M05403, M05459, M05486, M05517, M05530, M05583, M05600, M05612, M05615, M05629, M05662, M05678, M05711, M05747, M05767, M05801, M05809, M05831, M05839, M05932, M05936, M05940, M05970, M06090, M06195, M06198, M06201, M06212, M06220, M06278, M06294, M06299, M06418, M06503, M06548, M06590, M06612, M06685, M06695, M06697, M06699, M06714, M06723, M06757, M06768, M06770, M06774, M06794, M06813, M06815, M06821, M06861, M06875, M06883, M06913, M06931, M06942, M06963, M06976, M06986, M07022, M07093, M07108, M07110, M07120, M07122, M07127, M07129, M07142, M07169, M07180, M07187, M07195, M07216, M07229, M07237, M07238, M07241, M07243, M07251, M07258, M07259, M07261, M07264, M07267, M07270, M07287, M07289, M07294, M07295, M07296, M07313, M07339, M07403, M07466, M07504, M07505, M07529, M07550, M07588, M07589, M07590, M07591, M07600, M07638, M07651, M07656, M07679, M07695, M07710, M07733, M07757, M07862, M07873, M07888, M07913, M07915, M07916, M07917, M07946, M07947, M07963, M08030, M08054, M08058, M08083, M08135, M08141, M08180, M08190, M08208, M08217, M08221, M08249, M08474\n",
      "\n",
      "dead_phi (10 positioners):\n",
      "\n",
      "M01686, M01758, M01865, M03415, M04235, M04386, M04569, M04596, M04763, M05675\n",
      "\n",
      "linear_phi (151 positioners):\n",
      "\n",
      "M00436, M01080, M01102, M01106, M01276, M01282, M01376, M01482, M01677, M01709, M01759, M01764, M01875, M01896, M01929, M01946, M01953, M02164, M02190, M02254, M02361, M02367, M02369, M02430, M02440, M02449, M02482, M02488, M02490, M02493, M02499, M02500, M02505, M02947, M03172, M03187, M03455, M03456, M03461, M03464, M03520, M03545, M03584, M03601, M03607, M03609, M03613, M03614, M03618, M03633, M03645, M03649, M03650, M03654, M03661, M03672, M03676, M03680, M03684, M03696, M03709, M03721, M03733, M03735, M03777, M03794, M03809, M03816, M03820, M03889, M03913, M03917, M03918, M03935, M03940, M03941, M03945, M03950, M03961, M03962, M03978, M03979, M03981, M03983, M03986, M03995, M04006, M04024, M04058, M04060, M04078, M04081, M04086, M04178, M04182, M04191, M04213, M04253, M04271, M04307, M04309, M04330, M04354, M04356, M04361, M04363, M04376, M04379, M04383, M04389, M04396, M04401, M04619, M04718, M04981, M04982, M04995, M04999, M05052, M05062, M05086, M05096, M05107, M05112, M05114, M05132, M05178, M05363, M05376, M05453, M05499, M05506, M05508, M05882, M06663, M06812, M06863, M06898, M06933, M07081, M07085, M07119, M07125, M07263, M07274, M07338, M07480, M07595, M07715, M08230, M08337\n",
      "\n",
      "offset_phi (223 positioners):\n",
      "\n",
      "M01100, M01109, M01214, M01224, M01257, M01267, M01380, M01455, M01473, M01605, M01630, M01703, M01713, M01717, M01724, M01747, M01749, M01808, M01862, M02023, M02024, M02031, M02194, M02249, M02257, M02286, M02300, M02301, M02317, M02318, M02334, M02345, M02353, M02382, M02392, M02393, M02397, M02401, M02427, M02437, M02459, M02472, M02476, M02484, M02514, M02523, M02537, M02542, M02561, M02566, M02572, M02577, M02596, M02598, M02601, M02606, M02610, M02651, M02673, M02677, M02704, M02708, M02724, M02725, M02733, M02734, M02824, M02832, M02834, M02846, M02849, M02851, M02855, M02857, M02902, M02915, M02937, M02974, M03008, M03012, M03018, M03019, M03020, M03024, M03026, M03030, M03034, M03037, M03061, M03072, M03073, M03082, M03085, M03086, M03092, M03099, M03103, M03118, M03126, M03163, M03199, M03216, M03217, M03256, M03268, M03277, M03327, M03342, M03343, M03348, M03356, M03371, M03374, M03390, M03446, M03507, M03508, M03514, M03528, M03556, M03558, M03566, M03581, M03585, M03587, M03600, M03602, M03612, M03624, M03651, M03756, M03871, M04093, M04104, M04105, M04116, M04200, M04242, M04250, M04275, M04366, M04369, M04377, M04397, M04470, M04481, M04526, M04531, M04566, M04586, M04592, M04607, M04712, M04717, M04759, M04775, M04843, M04849, M04882, M04917, M04924, M05041, M05101, M05124, M05126, M05127, M05158, M05177, M05244, M05304, M05322, M05358, M05361, M05371, M05402, M05471, M05505, M05524, M05551, M05592, M05605, M05622, M05623, M05766, M05779, M05836, M05948, M05950, M05952, M05958, M05961, M05967, M05969, M05971, M06208, M06353, M06410, M06497, M06499, M06601, M06667, M06711, M06745, M06854, M06874, M06889, M06891, M07034, M07116, M07271, M07427, M07473, M07475, M07494, M07599, M07688, M07747, M07847, M07863, M07942, M07970, M08027, M08156\n",
      "\n",
      "sticky_phi (27 positioners):\n",
      "\n",
      "M01484, M01491, M01632, M01722, M01778, M01831, M01834, M01976, M02453, M02481, M02525, M03444, M03588, M03642, M03653, M03655, M03725, M03906, M03998, M04055, M05029, M05042, M05048, M05362, M05461, M07383, M08299\n",
      "\n"
     ]
    }
   ],
   "source": [
    "posids = df[df[\"normal_theta\"] & df[\"normal_phi\"]].index\n",
    "print(f'normal theta and phi ({len(posids)} positioners):\\n\\n{\", \".join(posids)}\\n')\n",
    "for label in labels:\n",
    "    posids = df[df[label] == True].index\n",
    "    print(f'{label} ({len(posids)} positioners):\\n\\n{\", \".join(posids)}\\n')"
   ]
  },
  {
   "cell_type": "code",
   "execution_count": 172,
   "metadata": {},
   "outputs": [
    {
     "data": {
      "text/plain": [
       "field\n",
       "centre_T                  [179.13896050211648, 50.44825781295801]\n",
       "radius_T                                                  2.54561\n",
       "residuals_T     [0.005371592626343791, -0.003420514821571796, ...\n",
       "centre_P                  [182.2092063436419, 50.274484492464175]\n",
       "radius_P                                                  3.14305\n",
       "residuals_P     [-4.266865232249728e-06, 0.00513963936191475, ...\n",
       "OFFSET_X                                                  179.139\n",
       "OFFSET_Y                                                  50.4483\n",
       "LENGTH_R1                                                 3.07516\n",
       "LENGTH_R2                                                 3.14305\n",
       "OFFSET_T                                                 -105.256\n",
       "OFFSET_P                                                  29.2643\n",
       "GEAR_CALIB_T                                              1.00041\n",
       "GEAR_CALIB_P                                             0.833201\n",
       "area_T                                                    1895.69\n",
       "area_P                                                    4.15887\n",
       "slope_P                                                    3.0114\n",
       "intercept_P                                              -369.223\n",
       "rvalue_P                                                 0.629962\n",
       "pvalue_P                                                 0.180058\n",
       "slope_T                                               0.000188921\n",
       "intercept_T                                                270.73\n",
       "rvalue_T                                                 0.155699\n",
       "pvalue_T                                                 0.768338\n",
       "normal_theta                                                 True\n",
       "dead_theta                                                  False\n",
       "linear_theta                                                False\n",
       "offset_theta                                                False\n",
       "sticky_theta                                                False\n",
       "normal_phi                                                   True\n",
       "dead_phi                                                    False\n",
       "linear_phi                                                  False\n",
       "offset_phi                                                  False\n",
       "sticky_phi                                                  False\n",
       "Name: M00469, dtype: object"
      ]
     },
     "execution_count": 172,
     "metadata": {},
     "output_type": "execute_result"
    }
   ],
   "source": [
    "df.loc['M00469']"
   ]
  },
  {
   "cell_type": "code",
   "execution_count": 166,
   "metadata": {},
   "outputs": [
    {
     "data": {
      "text/plain": [
       "(array([10., 13., 12., 10., 21., 22., 23., 39., 37., 36.]),\n",
       " array([0.90069648, 0.91034577, 0.91999506, 0.92964435, 0.93929364,\n",
       "        0.94894293, 0.95859221, 0.9682415 , 0.97789079, 0.98754008,\n",
       "        0.99718937]),\n",
       " <a list of 10 Patch objects>)"
      ]
     },
     "execution_count": 166,
     "metadata": {},
     "output_type": "execute_result"
    },
    {
     "data": {
      "image/png": "[encoded data removed]",
      "text/plain": [
       "<Figure size 432x288 with 1 Axes>"
      ]
     },
     "metadata": {
      "needs_background": "light"
     },
     "output_type": "display_data"
    }
   ],
   "source": [
    "import matplotlib.pyplot as plt\n",
    "plt.hist(df[df.offset_phi==True].rvalue_P)"
   ]
  },
  {
   "cell_type": "code",
   "execution_count": null,
   "metadata": {},
   "outputs": [],
   "source": []
  }
 ],
 "metadata": {
  "kernelspec": {
   "display_name": "Python 3",
   "language": "python",
   "name": "python3"
  },
  "language_info": {
   "codemirror_mode": {
    "name": "ipython",
    "version": 3
   },
   "file_extension": ".py",
   "mimetype": "text/x-python",
   "name": "python",
   "nbconvert_exporter": "python",
   "pygments_lexer": "ipython3",
   "version": "3.7.6"
  }
 },
 "nbformat": 4,
 "nbformat_minor": 4
}
