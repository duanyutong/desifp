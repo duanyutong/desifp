{
 "cells": [
  {
   "cell_type": "code",
   "execution_count": 2,
   "metadata": {},
   "outputs": [],
   "source": [
    "import os\n",
    "import numpy as np\n",
    "import pandas as pd\n",
    "import matplotlib.pyplot as plt\n",
    "idx = pd.IndexSlice\n",
    "np.seterr(all='raise')\n",
    "\n",
    "directory = r'K:\\Google Drive\\DESI\\commissioning\\sticky_pos\\00047557-arc_calibration-755_disabled_noptl2'\n",
    "path = os.path.join(directory, 'calibdf.pkl.gz')\n",
    "calibdf = pd.read_pickle(path)['FIT']\n",
    "labels = ['normal_theta', 'dead_theta', 'linear_theta', 'offset_theta', 'sticky_theta',\n",
    "          'normal_phi', 'dead_phi', 'linear_phi', 'offset_phi', 'sticky_phi']\n",
    "for label in labels:\n",
    "    calibdf[label] = False\n",
    "path = os.path.join(directory, 'movedf.pkl.gz')\n",
    "movedf = pd.read_pickle(path)\n",
    "for posid in calibdf.index:\n",
    "    for axis in ['T', 'P']:\n",
    "        moves = movedf.loc[idx[axis, :, posid]]\n",
    "        # minimum (adjacent) pair separation\n",
    "        calibdf.loc[posid, f'min_adj_pair_sep_{axis}'] = moves[f'exp_posint{axis}'].diff().abs().min()\n",
    "        calibdf.loc[posid, f'max_err_{axis}'] = moves[f'err_posint{axis}'].abs().max()\n",
    "        if axis == 'T':\n",
    "            calibdf.loc[posid, 'std_adj_pair_sep_T'] = np.std(np.abs(np.diff(np.degrees(np.unwrap(np.radians(\n",
    "                moves['exp_posintT'][moves['exp_posintT'].notnull()]))))))\n",
    "        else:\n",
    "            calibdf.loc[posid, 'std_adj_pair_sep_P'] = moves[f'exp_posint{axis}'].diff().abs().std()"
   ]
  },
  {
   "cell_type": "code",
   "execution_count": 3,
   "metadata": {},
   "outputs": [],
   "source": [
    "def classify_sticky_pos(grt, grp, at, ap, rt, rp, minapst, minapsp, stdapst, stdapsp, maxet, maxep):\n",
    "    '''GEAR_CALIB_T, GEAR_CALIB_P, area_T, area_P, rvalue_T, rvalue_P,\n",
    "       min_adj_pair_sep_T, min_adj_pair_sep_P, std_adj_pair_sep_T, std_adj_pair_sep_P,\n",
    "       'max_err_T, max_err_P'''\n",
    "    labels_t, labels_p = set(), set()\n",
    "    # theta arc\n",
    "    if 0.8 < grt < 1.2 and at > 200 and stdapst < 14:\n",
    "        labels_t.add('normal_theta')\n",
    "    if at < 40 and minapst < 30:\n",
    "        labels_t.add('dead_theta')\n",
    "    if at > 30 and minapst < 38 and stdapst > 4 and grt > 0.6:\n",
    "        labels_t.add('offset_theta')\n",
    "    if 0.2<abs(grt-1)<0.95 and abs(rt) > 0.97 and minapst > 1 and 4< stdapst < 15:\n",
    "        labels_t.add('linear_theta')\n",
    "    if not labels_t:\n",
    "        labels_t.add('sticky_theta')\n",
    "    # phi arc\n",
    "    if (grp < 0.3 or 1.3 < grp) and ap < 1 and minapsp < 5:\n",
    "        labels_p.add('dead_phi')\n",
    "    if abs(grp-1) > 0.12 and ap > 1 and abs(rp) > 0.97:\n",
    "        labels_p.add('linear_phi')\n",
    "    if abs(grp-1) > 0.06 and 1 < ap < 5.7 and abs(rp) < 0.97 and minapsp > 4 and stdapsp > 1:\n",
    "        labels_p.add('sticky_phi')  # M01484\n",
    "    if abs(grp-1) < 0.12 and ap > 3 and minapsp > 5 and maxep < 3.5 and stdapsp < 1:\n",
    "        labels_p.add('normal_phi')\n",
    "    if ap > 2 and minapsp < 13 and stdapsp > 1:  # grp can be 0\n",
    "        labels_p.add('offset_phi')  # M00469, M01497\n",
    "    if not len(labels_t) == len(labels_p) == 1:\n",
    "        print(labels_t, labels_p)\n",
    "    if ((len(labels_t) != 1 and labels_t != {'offset_theta', 'linear_theta'})\n",
    "        or (len(labels_p) != 1 and (labels_p != {'offset_phi', 'linear_phi'} and labels_p != {'offset_phi', 'sticky_phi'}))):\n",
    "        import pdb; pdb.set_trace()\n",
    "    return labels_t, labels_p"
   ]
  },
  {
   "cell_type": "code",
   "execution_count": 4,
   "metadata": {},
   "outputs": [
    {
     "name": "stdout",
     "output_type": "stream",
     "text": [
      "{'normal_theta'} {'offset_phi', 'linear_phi'}\n",
      "{'normal_theta'} {'offset_phi', 'linear_phi'}\n",
      "{'normal_theta'} {'offset_phi', 'linear_phi'}\n",
      "{'normal_theta'} {'offset_phi', 'linear_phi'}\n",
      "{'normal_theta'} {'offset_phi', 'linear_phi'}\n",
      "{'normal_theta'} {'offset_phi', 'linear_phi'}\n",
      "{'normal_theta'} {'offset_phi', 'linear_phi'}\n",
      "{'normal_theta'} {'offset_phi', 'linear_phi'}\n",
      "{'offset_theta'} {'offset_phi', 'sticky_phi'}\n",
      "{'normal_theta'} {'offset_phi', 'linear_phi'}\n",
      "{'normal_theta'} {'offset_phi', 'linear_phi'}\n",
      "{'normal_theta'} {'offset_phi', 'linear_phi'}\n",
      "{'normal_theta'} {'offset_phi', 'linear_phi'}\n",
      "{'normal_theta'} {'offset_phi', 'linear_phi'}\n",
      "{'normal_theta'} {'offset_phi', 'linear_phi'}\n",
      "{'normal_theta'} {'offset_phi', 'linear_phi'}\n",
      "{'normal_theta'} {'offset_phi', 'linear_phi'}\n",
      "{'normal_theta'} {'offset_phi', 'linear_phi'}\n",
      "{'normal_theta'} {'offset_phi', 'linear_phi'}\n",
      "{'sticky_theta'} {'offset_phi', 'sticky_phi'}\n",
      "{'normal_theta'} {'offset_phi', 'linear_phi'}\n",
      "{'normal_theta'} {'offset_phi', 'linear_phi'}\n",
      "{'normal_theta'} {'offset_phi', 'linear_phi'}\n",
      "{'normal_theta'} {'offset_phi', 'linear_phi'}\n",
      "{'normal_theta'} {'offset_phi', 'sticky_phi'}\n",
      "{'normal_theta'} {'offset_phi', 'linear_phi'}\n",
      "{'sticky_theta'} {'offset_phi', 'linear_phi'}\n",
      "{'normal_theta'} {'offset_phi', 'linear_phi'}\n",
      "{'normal_theta'} {'offset_phi', 'linear_phi'}\n",
      "{'normal_theta'} {'offset_phi', 'linear_phi'}\n",
      "{'normal_theta'} {'offset_phi', 'linear_phi'}\n",
      "{'normal_theta'} {'offset_phi', 'linear_phi'}\n",
      "{'sticky_theta'} {'offset_phi', 'linear_phi'}\n",
      "{'normal_theta'} {'offset_phi', 'linear_phi'}\n",
      "{'normal_theta'} {'offset_phi', 'linear_phi'}\n",
      "{'normal_theta'} {'offset_phi', 'linear_phi'}\n",
      "{'normal_theta'} {'offset_phi', 'linear_phi'}\n",
      "{'sticky_theta'} {'offset_phi', 'linear_phi'}\n",
      "{'normal_theta'} {'offset_phi', 'linear_phi'}\n",
      "{'normal_theta'} {'offset_phi', 'linear_phi'}\n",
      "{'normal_theta'} {'offset_phi', 'linear_phi'}\n",
      "{'normal_theta'} {'offset_phi', 'linear_phi'}\n",
      "{'normal_theta'} {'offset_phi', 'linear_phi'}\n",
      "{'normal_theta'} {'offset_phi', 'linear_phi'}\n",
      "{'normal_theta'} {'offset_phi', 'linear_phi'}\n",
      "{'normal_theta'} {'offset_phi', 'linear_phi'}\n",
      "{'normal_theta'} {'offset_phi', 'linear_phi'}\n",
      "{'normal_theta'} {'offset_phi', 'linear_phi'}\n",
      "{'normal_theta'} {'offset_phi', 'linear_phi'}\n",
      "{'normal_theta'} {'offset_phi', 'linear_phi'}\n",
      "{'normal_theta'} {'offset_phi', 'linear_phi'}\n",
      "{'normal_theta'} {'offset_phi', 'linear_phi'}\n",
      "{'normal_theta'} {'offset_phi', 'linear_phi'}\n",
      "{'normal_theta'} {'offset_phi', 'linear_phi'}\n",
      "{'normal_theta'} {'offset_phi', 'linear_phi'}\n",
      "{'normal_theta'} {'offset_phi', 'linear_phi'}\n",
      "{'normal_theta'} {'offset_phi', 'linear_phi'}\n",
      "{'normal_theta'} {'offset_phi', 'linear_phi'}\n",
      "{'normal_theta'} {'offset_phi', 'linear_phi'}\n",
      "{'normal_theta'} {'offset_phi', 'linear_phi'}\n",
      "{'normal_theta'} {'offset_phi', 'linear_phi'}\n",
      "{'normal_theta'} {'offset_phi', 'linear_phi'}\n",
      "{'normal_theta'} {'offset_phi', 'linear_phi'}\n",
      "{'normal_theta'} {'offset_phi', 'linear_phi'}\n",
      "{'normal_theta'} {'offset_phi', 'linear_phi'}\n",
      "{'normal_theta'} {'offset_phi', 'linear_phi'}\n",
      "{'normal_theta'} {'offset_phi', 'linear_phi'}\n",
      "{'normal_theta'} {'offset_phi', 'linear_phi'}\n",
      "{'normal_theta'} {'offset_phi', 'linear_phi'}\n",
      "{'normal_theta'} {'offset_phi', 'linear_phi'}\n",
      "{'normal_theta'} {'offset_phi', 'linear_phi'}\n",
      "{'normal_theta'} {'offset_phi', 'linear_phi'}\n",
      "{'normal_theta'} {'offset_phi', 'linear_phi'}\n",
      "{'normal_theta'} {'offset_phi', 'linear_phi'}\n",
      "{'normal_theta'} {'offset_phi', 'linear_phi'}\n",
      "{'normal_theta'} {'offset_phi', 'linear_phi'}\n"
     ]
    }
   ],
   "source": [
    "for posid in calibdf.index:\n",
    "    row = calibdf.loc[posid, ['GEAR_CALIB_T', 'GEAR_CALIB_P', 'area_T', 'area_P', 'rvalue_T', 'rvalue_P',\n",
    "                              'min_adj_pair_sep_T', 'min_adj_pair_sep_P', 'std_adj_pair_sep_T', 'std_adj_pair_sep_P',\n",
    "                              'max_err_T', 'max_err_P']]\n",
    "    labels_t, labels_p = classify_sticky_pos(*row)\n",
    "    for label in labels_t | labels_p:\n",
    "        calibdf.loc[posid, label] = True"
   ]
  },
  {
   "cell_type": "code",
   "execution_count": 15,
   "metadata": {},
   "outputs": [
    {
     "data": {
      "text/plain": [
       "DEVICE_ID\n",
       "M03979    0.145726\n",
       "M07119    0.197515\n",
       "M07715    0.215596\n",
       "M05132    0.219511\n",
       "M03940    0.219885\n",
       "            ...   \n",
       "M04381    0.696219\n",
       "M04309    0.715125\n",
       "M06933    0.724425\n",
       "M03961    0.730507\n",
       "M03947    0.767029\n",
       "Name: GEAR_CALIB_P, Length: 213, dtype: float64"
      ]
     },
     "execution_count": 15,
     "metadata": {},
     "output_type": "execute_result"
    }
   ],
   "source": [
    "calibdf.query('linear_phi==True')['GEAR_CALIB_P'].sort_values()"
   ]
  },
  {
   "cell_type": "code",
   "execution_count": 17,
   "metadata": {},
   "outputs": [
    {
     "data": {
      "image/png": "[encoded data removed]",
      "text/plain": [
       "<Figure size 432x288 with 1 Axes>"
      ]
     },
     "metadata": {
      "needs_background": "light"
     },
     "output_type": "display_data"
    }
   ],
   "source": [
    "_ = plt.hist(calibdf.query('linear_phi==True')['GEAR_CALIB_P'])"
   ]
  },
  {
   "cell_type": "code",
   "execution_count": 44,
   "metadata": {},
   "outputs": [
    {
     "data": {
      "text/html": [
       "<div>\n",
       "<style scoped>\n",
       "    .dataframe tbody tr th:only-of-type {\n",
       "        vertical-align: middle;\n",
       "    }\n",
       "\n",
       "    .dataframe tbody tr th {\n",
       "        vertical-align: top;\n",
       "    }\n",
       "\n",
       "    .dataframe thead th {\n",
       "        text-align: right;\n",
       "    }\n",
       "</style>\n",
       "<table border=\"1\" class=\"dataframe\">\n",
       "  <thead>\n",
       "    <tr style=\"text-align: right;\">\n",
       "      <th>field</th>\n",
       "      <th>rvalue_P</th>\n",
       "      <th>pvalue_P</th>\n",
       "    </tr>\n",
       "    <tr>\n",
       "      <th>DEVICE_ID</th>\n",
       "      <th></th>\n",
       "      <th></th>\n",
       "    </tr>\n",
       "  </thead>\n",
       "  <tbody>\n",
       "    <tr>\n",
       "      <th>M00411</th>\n",
       "      <td>-0.297599</td>\n",
       "      <td>5.667804e-01</td>\n",
       "    </tr>\n",
       "    <tr>\n",
       "      <th>M00436</th>\n",
       "      <td>-0.999896</td>\n",
       "      <td>1.633803e-08</td>\n",
       "    </tr>\n",
       "    <tr>\n",
       "      <th>M00469</th>\n",
       "      <td>-0.916383</td>\n",
       "      <td>1.019535e-02</td>\n",
       "    </tr>\n",
       "    <tr>\n",
       "      <th>M00636</th>\n",
       "      <td>0.436850</td>\n",
       "      <td>3.864086e-01</td>\n",
       "    </tr>\n",
       "    <tr>\n",
       "      <th>M01033</th>\n",
       "      <td>0.925632</td>\n",
       "      <td>8.090192e-03</td>\n",
       "    </tr>\n",
       "    <tr>\n",
       "      <th>...</th>\n",
       "      <td>...</td>\n",
       "      <td>...</td>\n",
       "    </tr>\n",
       "    <tr>\n",
       "      <th>M08230</th>\n",
       "      <td>-0.986805</td>\n",
       "      <td>2.600009e-04</td>\n",
       "    </tr>\n",
       "    <tr>\n",
       "      <th>M08249</th>\n",
       "      <td>0.403951</td>\n",
       "      <td>4.270313e-01</td>\n",
       "    </tr>\n",
       "    <tr>\n",
       "      <th>M08299</th>\n",
       "      <td>-0.970956</td>\n",
       "      <td>1.253116e-03</td>\n",
       "    </tr>\n",
       "    <tr>\n",
       "      <th>M08337</th>\n",
       "      <td>-0.921424</td>\n",
       "      <td>9.018653e-03</td>\n",
       "    </tr>\n",
       "    <tr>\n",
       "      <th>M08474</th>\n",
       "      <td>0.977365</td>\n",
       "      <td>7.627383e-04</td>\n",
       "    </tr>\n",
       "  </tbody>\n",
       "</table>\n",
       "<p>755 rows × 2 columns</p>\n",
       "</div>"
      ],
      "text/plain": [
       "field      rvalue_P      pvalue_P\n",
       "DEVICE_ID                        \n",
       "M00411    -0.297599  5.667804e-01\n",
       "M00436    -0.999896  1.633803e-08\n",
       "M00469    -0.916383  1.019535e-02\n",
       "M00636     0.436850  3.864086e-01\n",
       "M01033     0.925632  8.090192e-03\n",
       "...             ...           ...\n",
       "M08230    -0.986805  2.600009e-04\n",
       "M08249     0.403951  4.270313e-01\n",
       "M08299    -0.970956  1.253116e-03\n",
       "M08337    -0.921424  9.018653e-03\n",
       "M08474     0.977365  7.627383e-04\n",
       "\n",
       "[755 rows x 2 columns]"
      ]
     },
     "execution_count": 44,
     "metadata": {},
     "output_type": "execute_result"
    }
   ],
   "source": [
    "calibdf[['rvalue_P', 'pvalue_P']]"
   ]
  },
  {
   "cell_type": "code",
   "execution_count": 6,
   "metadata": {},
   "outputs": [
    {
     "name": "stdout",
     "output_type": "stream",
     "text": [
      "normal theta and phi (332 positioners):\n",
      "\n",
      "M00411, M00636, M01033, M01081, M01092, M01094, M01100, M01109, M01133, M01214, M01222, M01224, M01228, M01257, M01267, M01380, M01455, M01473, M01540, M01605, M01630, M01691, M01703, M01713, M01717, M01724, M01747, M01786, M01789, M01808, M01841, M01859, M01862, M01934, M02023, M02024, M02031, M02117, M02128, M02194, M02249, M02257, M02258, M02261, M02272, M02286, M02287, M02300, M02301, M02317, M02318, M02334, M02345, M02349, M02353, M02373, M02378, M02382, M02392, M02397, M02401, M02413, M02427, M02459, M02467, M02472, M02476, M02484, M02492, M02514, M02523, M02533, M02537, M02542, M02543, M02566, M02572, M02575, M02577, M02580, M02587, M02596, M02598, M02601, M02606, M02610, M02624, M02641, M02649, M02651, M02654, M02666, M02673, M02677, M02682, M02699, M02704, M02720, M02724, M02737, M02781, M02801, M02818, M02824, M02832, M02834, M02835, M02846, M02849, M02851, M02857, M02871, M02902, M02904, M02913, M02915, M02919, M02922, M02926, M02937, M02939, M02969, M02974, M02976, M02981, M03001, M03012, M03018, M03019, M03029, M03030, M03034, M03045, M03072, M03085, M03103, M03117, M03121, M03137, M03163, M03168, M03197, M03212, M03216, M03217, M03219, M03247, M03253, M03271, M03277, M03289, M03304, M03317, M03342, M03343, M03352, M03367, M03371, M03374, M03405, M03417, M03507, M03527, M03561, M03566, M03570, M03585, M03600, M03602, M03612, M03624, M03651, M03707, M03756, M03803, M03977, M04089, M04093, M04104, M04105, M04110, M04116, M04124, M04200, M04242, M04244, M04250, M04275, M04276, M04366, M04369, M04377, M04397, M04398, M04408, M04436, M04441, M04453, M04458, M04462, M04470, M04481, M04493, M04510, M04526, M04531, M04550, M04562, M04563, M04566, M04586, M04592, M04618, M04623, M04624, M04641, M04701, M04759, M04761, M04771, M04801, M04873, M04909, M04910, M04912, M04914, M04916, M04917, M04924, M04960, M05076, M05093, M05098, M05101, M05106, M05124, M05126, M05127, M05158, M05167, M05177, M05244, M05252, M05304, M05316, M05371, M05402, M05403, M05459, M05486, M05505, M05517, M05524, M05551, M05583, M05629, M05711, M05747, M05766, M05767, M05779, M05814, M05831, M05872, M05923, M05932, M05936, M05958, M06090, M06195, M06198, M06201, M06212, M06497, M06499, M06548, M06590, M06711, M06768, M06780, M06786, M06794, M06815, M06821, M06854, M06875, M06883, M06889, M06963, M06976, M07034, M07116, M07120, M07122, M07142, M07169, M07238, M07243, M07251, M07259, M07261, M07313, M07339, M07466, M07473, M07475, M07494, M07529, M07589, M07590, M07599, M07600, M07679, M07757, M07847, M07913, M07915, M07916, M07917, M07942, M07946, M07947, M07963, M07970, M08027, M08030, M08054, M08058, M08135, M08156, M08180, M08208\n",
      "\n",
      "normal_theta (568 positioners):\n",
      "\n",
      "M00411, M00436, M00469, M00636, M01033, M01080, M01081, M01092, M01094, M01100, M01102, M01106, M01109, M01133, M01214, M01222, M01224, M01228, M01257, M01267, M01276, M01289, M01376, M01380, M01455, M01473, M01482, M01484, M01491, M01496, M01502, M01540, M01605, M01613, M01630, M01632, M01677, M01686, M01691, M01703, M01709, M01713, M01717, M01724, M01747, M01750, M01758, M01759, M01764, M01768, M01778, M01786, M01789, M01808, M01831, M01834, M01841, M01859, M01861, M01862, M01865, M01875, M01887, M01896, M01929, M01934, M01946, M01953, M01976, M02023, M02024, M02031, M02117, M02128, M02164, M02190, M02194, M02249, M02254, M02257, M02258, M02261, M02265, M02272, M02286, M02287, M02300, M02301, M02317, M02318, M02323, M02328, M02334, M02345, M02349, M02353, M02361, M02369, M02373, M02378, M02382, M02392, M02397, M02401, M02413, M02427, M02430, M02453, M02459, M02467, M02472, M02476, M02481, M02482, M02484, M02488, M02490, M02492, M02493, M02505, M02514, M02523, M02525, M02533, M02537, M02542, M02543, M02566, M02572, M02575, M02577, M02580, M02587, M02596, M02598, M02601, M02606, M02610, M02624, M02641, M02649, M02651, M02654, M02666, M02673, M02677, M02682, M02699, M02704, M02720, M02724, M02737, M02781, M02801, M02818, M02824, M02832, M02834, M02835, M02846, M02849, M02851, M02857, M02871, M02902, M02904, M02913, M02915, M02919, M02922, M02926, M02937, M02939, M02947, M02969, M02974, M02976, M02981, M03001, M03012, M03018, M03019, M03029, M03030, M03034, M03045, M03072, M03077, M03085, M03090, M03103, M03117, M03121, M03137, M03163, M03168, M03172, M03175, M03187, M03197, M03212, M03216, M03217, M03219, M03247, M03253, M03271, M03277, M03289, M03304, M03317, M03342, M03343, M03352, M03367, M03371, M03374, M03405, M03417, M03443, M03444, M03456, M03461, M03464, M03491, M03507, M03520, M03527, M03561, M03566, M03570, M03583, M03584, M03585, M03588, M03600, M03601, M03602, M03607, M03609, M03612, M03613, M03614, M03618, M03624, M03633, M03642, M03645, M03649, M03650, M03651, M03653, M03654, M03661, M03672, M03675, M03676, M03680, M03696, M03707, M03709, M03721, M03725, M03729, M03734, M03735, M03756, M03772, M03777, M03792, M03794, M03803, M03809, M03811, M03820, M03889, M03901, M03906, M03913, M03915, M03917, M03918, M03925, M03935, M03940, M03941, M03945, M03947, M03950, M03954, M03961, M03962, M03963, M03975, M03977, M03978, M03979, M03983, M03986, M03987, M03995, M03998, M04006, M04009, M04012, M04024, M04031, M04044, M04052, M04055, M04058, M04060, M04078, M04084, M04086, M04089, M04093, M04104, M04105, M04110, M04116, M04124, M04178, M04182, M04191, M04197, M04199, M04200, M04201, M04205, M04213, M04242, M04244, M04250, M04253, M04265, M04270, M04271, M04275, M04276, M04307, M04309, M04318, M04319, M04330, M04337, M04343, M04354, M04356, M04361, M04363, M04366, M04369, M04373, M04377, M04379, M04381, M04383, M04385, M04389, M04396, M04397, M04398, M04408, M04416, M04422, M04436, M04441, M04453, M04458, M04462, M04470, M04481, M04493, M04510, M04526, M04531, M04550, M04562, M04563, M04566, M04569, M04586, M04592, M04618, M04619, M04623, M04624, M04641, M04701, M04718, M04759, M04761, M04771, M04801, M04873, M04909, M04910, M04912, M04914, M04916, M04917, M04924, M04960, M04981, M04982, M04984, M04995, M04999, M05000, M05029, M05040, M05042, M05048, M05052, M05062, M05074, M05076, M05086, M05089, M05093, M05096, M05098, M05101, M05106, M05107, M05112, M05114, M05124, M05126, M05127, M05132, M05158, M05167, M05177, M05178, M05218, M05244, M05252, M05262, M05268, M05304, M05316, M05362, M05363, M05371, M05376, M05402, M05403, M05453, M05459, M05461, M05486, M05499, M05505, M05506, M05508, M05517, M05524, M05551, M05583, M05629, M05711, M05747, M05766, M05767, M05779, M05814, M05831, M05862, M05872, M05882, M05888, M05923, M05932, M05936, M05958, M05977, M06080, M06090, M06195, M06198, M06201, M06212, M06497, M06499, M06548, M06590, M06663, M06685, M06711, M06768, M06780, M06786, M06794, M06815, M06821, M06854, M06863, M06875, M06883, M06889, M06898, M06933, M06963, M06976, M07034, M07081, M07085, M07116, M07119, M07120, M07122, M07125, M07142, M07169, M07180, M07238, M07241, M07243, M07251, M07259, M07261, M07274, M07313, M07338, M07339, M07383, M07466, M07473, M07475, M07480, M07494, M07504, M07529, M07589, M07590, M07595, M07599, M07600, M07656, M07679, M07715, M07733, M07757, M07847, M07913, M07915, M07916, M07917, M07942, M07946, M07947, M07963, M07970, M08027, M08030, M08054, M08058, M08135, M08156, M08180, M08190, M08208, M08217, M08230, M08299, M08337\n",
      "\n",
      "dead_theta (17 positioners):\n",
      "\n",
      "M01916, M03321, M03545, M03622, M04013, M04635, M04711, M04712, M04722, M04763, M05066, M05084, M05797, M07638, M07863, M08097, M08474\n",
      "\n",
      "linear_theta (13 positioners):\n",
      "\n",
      "M03108, M03330, M03379, M03558, M03581, M03712, M03873, M05398, M05703, M06612, M06891, M06986, M07525\n",
      "\n",
      "offset_theta (27 positioners):\n",
      "\n",
      "M01468, M01722, M01749, M02251, M02437, M02500, M02561, M02708, M02725, M02848, M02899, M03075, M03242, M03415, M03572, M03848, M04081, M04083, M04376, M04386, M04596, M04601, M05982, M06167, M06666, M06667, M06683\n",
      "\n",
      "sticky_theta (130 positioners):\n",
      "\n",
      "M01497, M02248, M02474, M02721, M02731, M02733, M02734, M02747, M02767, M03003, M03008, M03009, M03020, M03024, M03026, M03061, M03073, M03082, M03086, M03092, M03099, M03118, M03119, M03126, M03133, M03191, M03199, M03230, M03250, M03254, M03256, M03268, M03285, M03290, M03293, M03296, M03319, M03322, M03327, M03334, M03348, M03356, M03361, M03390, M03408, M03409, M03418, M03427, M03446, M03452, M03455, M03469, M03476, M03508, M03510, M03514, M03528, M03530, M03538, M03556, M03567, M03587, M03589, M03630, M03639, M03655, M03659, M03684, M03686, M03688, M03703, M03710, M03733, M03778, M03784, M03816, M03871, M03981, M04062, M04235, M04401, M04451, M04507, M04515, M04519, M04547, M04595, M04775, M04834, M04843, M04849, M04882, M05264, M05322, M05361, M05471, M05530, M05928, M05940, M06601, M06757, M06764, M06861, M06874, M06931, M07093, M07237, M07258, M07271, M07364, M07403, M07427, M07499, M07505, M07550, M07588, M07591, M07651, M07688, M07695, M07710, M07747, M07862, M07873, M07888, M08015, M08083, M08141, M08221, M08249\n",
      "\n",
      "normal_phi (486 positioners):\n",
      "\n",
      "M00411, M00636, M01033, M01081, M01092, M01094, M01100, M01109, M01133, M01214, M01222, M01224, M01228, M01257, M01267, M01380, M01455, M01473, M01540, M01605, M01630, M01691, M01703, M01713, M01717, M01724, M01747, M01786, M01789, M01808, M01841, M01859, M01862, M01934, M02023, M02024, M02031, M02117, M02128, M02194, M02249, M02251, M02257, M02258, M02261, M02272, M02286, M02287, M02300, M02301, M02317, M02318, M02334, M02345, M02349, M02353, M02373, M02378, M02382, M02392, M02397, M02401, M02413, M02427, M02437, M02459, M02467, M02472, M02474, M02476, M02484, M02492, M02514, M02523, M02533, M02537, M02542, M02543, M02561, M02566, M02572, M02575, M02577, M02580, M02587, M02596, M02598, M02601, M02606, M02610, M02624, M02641, M02649, M02651, M02654, M02666, M02673, M02677, M02682, M02699, M02704, M02708, M02720, M02721, M02724, M02725, M02731, M02733, M02734, M02737, M02747, M02767, M02781, M02801, M02818, M02824, M02832, M02834, M02835, M02846, M02848, M02849, M02851, M02857, M02871, M02899, M02902, M02904, M02913, M02915, M02919, M02922, M02926, M02937, M02939, M02969, M02974, M02976, M02981, M03001, M03003, M03008, M03009, M03012, M03018, M03019, M03020, M03024, M03026, M03029, M03030, M03034, M03045, M03061, M03072, M03073, M03075, M03082, M03085, M03086, M03092, M03099, M03103, M03108, M03117, M03118, M03119, M03121, M03126, M03133, M03137, M03163, M03168, M03191, M03197, M03199, M03212, M03216, M03217, M03219, M03230, M03242, M03247, M03250, M03253, M03256, M03268, M03271, M03277, M03285, M03289, M03290, M03293, M03296, M03304, M03317, M03319, M03321, M03322, M03327, M03330, M03334, M03342, M03343, M03348, M03352, M03356, M03361, M03367, M03371, M03374, M03390, M03405, M03408, M03409, M03417, M03418, M03427, M03446, M03452, M03469, M03476, M03507, M03508, M03510, M03514, M03527, M03528, M03530, M03538, M03556, M03558, M03561, M03566, M03567, M03570, M03572, M03581, M03585, M03587, M03589, M03600, M03602, M03612, M03624, M03630, M03639, M03651, M03659, M03686, M03688, M03703, M03707, M03710, M03712, M03756, M03778, M03784, M03803, M03871, M03873, M03977, M04083, M04089, M04093, M04104, M04105, M04110, M04116, M04124, M04200, M04242, M04244, M04250, M04275, M04276, M04366, M04369, M04377, M04397, M04398, M04408, M04436, M04441, M04451, M04453, M04458, M04462, M04470, M04481, M04493, M04507, M04510, M04515, M04519, M04526, M04531, M04547, M04550, M04562, M04563, M04566, M04586, M04592, M04595, M04596, M04601, M04618, M04623, M04624, M04635, M04641, M04701, M04711, M04712, M04722, M04759, M04761, M04771, M04775, M04801, M04834, M04843, M04849, M04873, M04882, M04909, M04910, M04912, M04914, M04916, M04917, M04924, M04960, M05066, M05076, M05084, M05093, M05098, M05101, M05106, M05124, M05126, M05127, M05158, M05167, M05177, M05244, M05252, M05264, M05304, M05316, M05322, M05361, M05371, M05398, M05402, M05403, M05459, M05471, M05486, M05505, M05517, M05524, M05530, M05551, M05583, M05629, M05703, M05711, M05747, M05766, M05767, M05779, M05814, M05831, M05872, M05923, M05928, M05932, M05936, M05940, M05958, M05982, M06090, M06195, M06198, M06201, M06212, M06497, M06499, M06548, M06590, M06601, M06612, M06666, M06667, M06711, M06757, M06764, M06768, M06780, M06786, M06794, M06815, M06821, M06854, M06874, M06875, M06883, M06889, M06891, M06931, M06963, M06976, M06986, M07034, M07093, M07116, M07120, M07122, M07142, M07169, M07237, M07238, M07243, M07251, M07258, M07259, M07261, M07271, M07313, M07339, M07364, M07403, M07427, M07466, M07473, M07475, M07494, M07499, M07505, M07525, M07529, M07588, M07589, M07590, M07591, M07599, M07600, M07638, M07651, M07679, M07688, M07695, M07710, M07747, M07757, M07847, M07862, M07863, M07873, M07888, M07913, M07915, M07916, M07917, M07942, M07946, M07947, M07963, M07970, M08015, M08027, M08030, M08054, M08058, M08083, M08135, M08141, M08156, M08180, M08208, M08221, M08249, M08474\n",
      "\n",
      "dead_phi (8 positioners):\n",
      "\n",
      "M01686, M01758, M01865, M03415, M04235, M04386, M04763, M05797\n",
      "\n",
      "linear_phi (213 positioners):\n",
      "\n",
      "M00436, M01080, M01102, M01106, M01276, M01289, M01376, M01482, M01484, M01491, M01632, M01677, M01709, M01759, M01764, M01778, M01861, M01875, M01896, M01916, M01929, M01946, M01953, M01976, M02164, M02190, M02254, M02323, M02361, M02369, M02430, M02453, M02481, M02488, M02490, M02493, M02500, M02505, M02525, M02947, M03090, M03172, M03187, M03443, M03444, M03455, M03456, M03461, M03464, M03491, M03520, M03545, M03584, M03588, M03601, M03607, M03609, M03614, M03618, M03622, M03633, M03645, M03649, M03650, M03653, M03654, M03655, M03661, M03672, M03675, M03676, M03680, M03684, M03696, M03709, M03721, M03725, M03729, M03733, M03734, M03735, M03772, M03777, M03792, M03794, M03809, M03811, M03816, M03820, M03848, M03889, M03906, M03913, M03915, M03917, M03918, M03925, M03935, M03940, M03941, M03945, M03947, M03954, M03961, M03962, M03963, M03975, M03978, M03979, M03981, M03983, M03986, M03987, M03998, M04006, M04012, M04013, M04024, M04031, M04044, M04052, M04060, M04062, M04078, M04084, M04086, M04178, M04182, M04191, M04197, M04199, M04201, M04205, M04213, M04253, M04265, M04271, M04307, M04309, M04318, M04319, M04330, M04337, M04343, M04354, M04356, M04361, M04363, M04373, M04376, M04379, M04381, M04383, M04389, M04396, M04401, M04416, M04422, M04619, M04718, M04981, M04982, M04984, M04995, M04999, M05000, M05029, M05048, M05052, M05062, M05074, M05086, M05107, M05112, M05114, M05132, M05178, M05218, M05262, M05268, M05362, M05363, M05376, M05453, M05461, M05499, M05506, M05508, M05862, M05888, M05977, M06167, M06663, M06683, M06863, M06898, M06933, M07081, M07085, M07119, M07125, M07180, M07241, M07274, M07338, M07383, M07480, M07595, M07715, M07733, M08217, M08230, M08299\n",
      "\n",
      "offset_phi (121 positioners):\n",
      "\n",
      "M00469, M01102, M01106, M01289, M01376, M01468, M01482, M01484, M01491, M01496, M01497, M01502, M01613, M01677, M01722, M01749, M01750, M01759, M01768, M01778, M01831, M01834, M01861, M01875, M01887, M01896, M01929, M01946, M01953, M01976, M02164, M02248, M02265, M02328, M02361, M02453, M02482, M02493, M02525, M03077, M03175, M03254, M03379, M03444, M03455, M03464, M03583, M03588, M03613, M03614, M03618, M03642, M03653, M03655, M03661, M03680, M03721, M03725, M03733, M03772, M03901, M03906, M03915, M03925, M03950, M03961, M03983, M03995, M03998, M04006, M04009, M04055, M04058, M04060, M04078, M04081, M04178, M04199, M04253, M04270, M04354, M04356, M04361, M04385, M04416, M04569, M04619, M04718, M04981, M05029, M05040, M05042, M05048, M05089, M05096, M05107, M05178, M05362, M05461, M05506, M05882, M06080, M06663, M06685, M06861, M06898, M06933, M07085, M07180, M07241, M07274, M07338, M07383, M07504, M07550, M07656, M08097, M08190, M08230, M08299, M08337\n",
      "\n",
      "sticky_phi (3 positioners):\n",
      "\n",
      "M01722, M02248, M03175\n",
      "\n"
     ]
    }
   ],
   "source": [
    "posids = calibdf[calibdf[\"normal_theta\"] & calibdf[\"normal_phi\"]].index\n",
    "print(f'normal theta and phi ({len(posids)} positioners):\\n\\n{\", \".join(posids)}\\n')\n",
    "for label in labels:\n",
    "    posids = calibdf[calibdf[label] == True].index\n",
    "    print(f'{label} ({len(posids)} positioners):\\n\\n{\", \".join(posids)}\\n')"
   ]
  },
  {
   "cell_type": "code",
   "execution_count": 27,
   "metadata": {},
   "outputs": [],
   "source": [
    "directory = r'K:\\Google Drive\\DESI\\commissioning\\sticky_pos'\n",
    "path = os.path.join(directory, 'movedf.pkl.gz')\n",
    "movedf = pd.read_pickle(path)"
   ]
  },
  {
   "cell_type": "code",
   "execution_count": 40,
   "metadata": {},
   "outputs": [
    {
     "data": {
      "text/html": [
       "<div>\n",
       "<style scoped>\n",
       "    .dataframe tbody tr th:only-of-type {\n",
       "        vertical-align: middle;\n",
       "    }\n",
       "\n",
       "    .dataframe tbody tr th {\n",
       "        vertical-align: top;\n",
       "    }\n",
       "\n",
       "    .dataframe thead th {\n",
       "        text-align: right;\n",
       "    }\n",
       "</style>\n",
       "<table border=\"1\" class=\"dataframe\">\n",
       "  <thead>\n",
       "    <tr style=\"text-align: right;\">\n",
       "      <th></th>\n",
       "      <th>tgt_x</th>\n",
       "      <th>tgt_y</th>\n",
       "      <th>status_0</th>\n",
       "    </tr>\n",
       "    <tr>\n",
       "      <th>target_no</th>\n",
       "      <th></th>\n",
       "      <th></th>\n",
       "      <th></th>\n",
       "    </tr>\n",
       "  </thead>\n",
       "  <tbody>\n",
       "    <tr>\n",
       "      <th>0</th>\n",
       "      <td>-1.5</td>\n",
       "      <td>-1.5</td>\n",
       "      <td>Normal positioner</td>\n",
       "    </tr>\n",
       "    <tr>\n",
       "      <th>1</th>\n",
       "      <td>-1.5</td>\n",
       "      <td>-0.5</td>\n",
       "      <td>Normal positioner</td>\n",
       "    </tr>\n",
       "    <tr>\n",
       "      <th>2</th>\n",
       "      <td>-0.5</td>\n",
       "      <td>-0.5</td>\n",
       "      <td>Unreachable by positioner</td>\n",
       "    </tr>\n",
       "    <tr>\n",
       "      <th>3</th>\n",
       "      <td>0.5</td>\n",
       "      <td>1.5</td>\n",
       "      <td>Normal positioner</td>\n",
       "    </tr>\n",
       "    <tr>\n",
       "      <th>4</th>\n",
       "      <td>0.5</td>\n",
       "      <td>-1.5</td>\n",
       "      <td>Normal positioner</td>\n",
       "    </tr>\n",
       "    <tr>\n",
       "      <th>5</th>\n",
       "      <td>0.5</td>\n",
       "      <td>-0.5</td>\n",
       "      <td>Unreachable by positioner</td>\n",
       "    </tr>\n",
       "    <tr>\n",
       "      <th>6</th>\n",
       "      <td>-0.5</td>\n",
       "      <td>-1.5</td>\n",
       "      <td>Normal positioner</td>\n",
       "    </tr>\n",
       "    <tr>\n",
       "      <th>7</th>\n",
       "      <td>1.5</td>\n",
       "      <td>0.5</td>\n",
       "      <td>Normal positioner</td>\n",
       "    </tr>\n",
       "    <tr>\n",
       "      <th>8</th>\n",
       "      <td>-1.5</td>\n",
       "      <td>0.5</td>\n",
       "      <td>Normal positioner</td>\n",
       "    </tr>\n",
       "    <tr>\n",
       "      <th>9</th>\n",
       "      <td>1.5</td>\n",
       "      <td>-0.5</td>\n",
       "      <td>Normal positioner</td>\n",
       "    </tr>\n",
       "    <tr>\n",
       "      <th>10</th>\n",
       "      <td>-0.5</td>\n",
       "      <td>1.5</td>\n",
       "      <td>Normal positioner</td>\n",
       "    </tr>\n",
       "    <tr>\n",
       "      <th>11</th>\n",
       "      <td>1.5</td>\n",
       "      <td>1.5</td>\n",
       "      <td>Normal positioner</td>\n",
       "    </tr>\n",
       "    <tr>\n",
       "      <th>12</th>\n",
       "      <td>1.5</td>\n",
       "      <td>-1.5</td>\n",
       "      <td>Normal positioner</td>\n",
       "    </tr>\n",
       "    <tr>\n",
       "      <th>13</th>\n",
       "      <td>0.5</td>\n",
       "      <td>0.5</td>\n",
       "      <td>Unreachable by positioner</td>\n",
       "    </tr>\n",
       "    <tr>\n",
       "      <th>14</th>\n",
       "      <td>-0.5</td>\n",
       "      <td>0.5</td>\n",
       "      <td>Unreachable by positioner</td>\n",
       "    </tr>\n",
       "    <tr>\n",
       "      <th>15</th>\n",
       "      <td>-1.5</td>\n",
       "      <td>1.5</td>\n",
       "      <td>Normal positioner</td>\n",
       "    </tr>\n",
       "  </tbody>\n",
       "</table>\n",
       "</div>"
      ],
      "text/plain": [
       "           tgt_x  tgt_y                   status_0\n",
       "target_no                                         \n",
       "0           -1.5   -1.5          Normal positioner\n",
       "1           -1.5   -0.5          Normal positioner\n",
       "2           -0.5   -0.5  Unreachable by positioner\n",
       "3            0.5    1.5          Normal positioner\n",
       "4            0.5   -1.5          Normal positioner\n",
       "5            0.5   -0.5  Unreachable by positioner\n",
       "6           -0.5   -1.5          Normal positioner\n",
       "7            1.5    0.5          Normal positioner\n",
       "8           -1.5    0.5          Normal positioner\n",
       "9            1.5   -0.5          Normal positioner\n",
       "10          -0.5    1.5          Normal positioner\n",
       "11           1.5    1.5          Normal positioner\n",
       "12           1.5   -1.5          Normal positioner\n",
       "13           0.5    0.5  Unreachable by positioner\n",
       "14          -0.5    0.5  Unreachable by positioner\n",
       "15          -1.5    1.5          Normal positioner"
      ]
     },
     "execution_count": 40,
     "metadata": {},
     "output_type": "execute_result"
    }
   ],
   "source": [
    "movedf.xs('M04462', level='DEVICE_ID')[['tgt_x', 'tgt_y', 'status_0']]"
   ]
  },
  {
   "cell_type": "code",
   "execution_count": 7,
   "metadata": {},
   "outputs": [],
   "source": [
    "directory = r'K:\\Google Drive\\DESI\\commissioning\\sticky_pos'\n",
    "path = os.path.join(directory, 'gradedf.pkl.gz')\n",
    "gradedf = pd.read_pickle(path)"
   ]
  },
  {
   "cell_type": "code",
   "execution_count": 8,
   "metadata": {},
   "outputs": [],
   "source": [
    "posids1 = calibdf[calibdf[\"normal_theta\"] & calibdf[\"normal_phi\"]].index\n",
    "posids2 = gradedf[gradedf['err_0_max'] < 200].index"
   ]
  },
  {
   "cell_type": "code",
   "execution_count": 26,
   "metadata": {},
   "outputs": [
    {
     "data": {
      "text/plain": [
       "err_0_max                                           52.8185\n",
       "err_corr_max                                            NaN\n",
       "err_corr_rms                                            NaN\n",
       "err_corr_95p_max                                        NaN\n",
       "err_corr_95p_rms                                        NaN\n",
       "grade                                                   N/A\n",
       "PETAL_LOC                                                 4\n",
       "DEVICE_LOC                                              510\n",
       "BUS_ID                                                can14\n",
       "PCID                                                      4\n",
       "LENGTH_R1                                           3.10613\n",
       "LENGTH_R2                                           2.91077\n",
       "OFFSET_X                                            352.123\n",
       "OFFSET_Y                                            167.839\n",
       "OFFSET_T                                            38.7248\n",
       "OFFSET_P                                           -16.9154\n",
       "targetable_range_T    [-193.393915117201, 190.393915117201]\n",
       "targetable_range_P                  [5.901733397887, 182.0]\n",
       "Name: M03600, dtype: object"
      ]
     },
     "execution_count": 26,
     "metadata": {},
     "output_type": "execute_result"
    }
   ],
   "source": [
    "gradedf.loc['M03600']"
   ]
  },
  {
   "cell_type": "code",
   "execution_count": 19,
   "metadata": {},
   "outputs": [
    {
     "data": {
      "text/plain": [
       "313"
      ]
     },
     "execution_count": 19,
     "metadata": {},
     "output_type": "execute_result"
    }
   ],
   "source": [
    "len(posids2)"
   ]
  },
  {
   "cell_type": "code",
   "execution_count": 24,
   "metadata": {},
   "outputs": [
    {
     "data": {
      "text/html": [
       "<div>\n",
       "<style scoped>\n",
       "    .dataframe tbody tr th:only-of-type {\n",
       "        vertical-align: middle;\n",
       "    }\n",
       "\n",
       "    .dataframe tbody tr th {\n",
       "        vertical-align: top;\n",
       "    }\n",
       "\n",
       "    .dataframe thead th {\n",
       "        text-align: right;\n",
       "    }\n",
       "</style>\n",
       "<table border=\"1\" class=\"dataframe\">\n",
       "  <thead>\n",
       "    <tr style=\"text-align: right;\">\n",
       "      <th></th>\n",
       "      <th>err_0_max</th>\n",
       "      <th>err_corr_max</th>\n",
       "      <th>err_corr_rms</th>\n",
       "      <th>err_corr_95p_max</th>\n",
       "      <th>err_corr_95p_rms</th>\n",
       "      <th>PETAL_LOC</th>\n",
       "      <th>DEVICE_LOC</th>\n",
       "      <th>PCID</th>\n",
       "      <th>LENGTH_R1</th>\n",
       "      <th>LENGTH_R2</th>\n",
       "      <th>OFFSET_X</th>\n",
       "      <th>OFFSET_Y</th>\n",
       "      <th>OFFSET_T</th>\n",
       "      <th>OFFSET_P</th>\n",
       "    </tr>\n",
       "  </thead>\n",
       "  <tbody>\n",
       "    <tr>\n",
       "      <th>count</th>\n",
       "      <td>313.000000</td>\n",
       "      <td>0.0</td>\n",
       "      <td>0.0</td>\n",
       "      <td>0.0</td>\n",
       "      <td>0.0</td>\n",
       "      <td>313.000000</td>\n",
       "      <td>313.000000</td>\n",
       "      <td>313.000000</td>\n",
       "      <td>313.000000</td>\n",
       "      <td>313.000000</td>\n",
       "      <td>313.000000</td>\n",
       "      <td>313.000000</td>\n",
       "      <td>313.000000</td>\n",
       "      <td>313.000000</td>\n",
       "    </tr>\n",
       "    <tr>\n",
       "      <th>mean</th>\n",
       "      <td>66.774123</td>\n",
       "      <td>NaN</td>\n",
       "      <td>NaN</td>\n",
       "      <td>NaN</td>\n",
       "      <td>NaN</td>\n",
       "      <td>6.185304</td>\n",
       "      <td>259.482428</td>\n",
       "      <td>6.185304</td>\n",
       "      <td>2.979301</td>\n",
       "      <td>3.018604</td>\n",
       "      <td>254.858559</td>\n",
       "      <td>85.358292</td>\n",
       "      <td>11.373268</td>\n",
       "      <td>-3.549093</td>\n",
       "    </tr>\n",
       "    <tr>\n",
       "      <th>std</th>\n",
       "      <td>29.358311</td>\n",
       "      <td>NaN</td>\n",
       "      <td>NaN</td>\n",
       "      <td>NaN</td>\n",
       "      <td>NaN</td>\n",
       "      <td>2.670622</td>\n",
       "      <td>142.755463</td>\n",
       "      <td>2.670622</td>\n",
       "      <td>0.116971</td>\n",
       "      <td>0.066210</td>\n",
       "      <td>80.415716</td>\n",
       "      <td>54.397421</td>\n",
       "      <td>101.819863</td>\n",
       "      <td>4.059182</td>\n",
       "    </tr>\n",
       "    <tr>\n",
       "      <th>min</th>\n",
       "      <td>25.127928</td>\n",
       "      <td>NaN</td>\n",
       "      <td>NaN</td>\n",
       "      <td>NaN</td>\n",
       "      <td>NaN</td>\n",
       "      <td>0.000000</td>\n",
       "      <td>2.000000</td>\n",
       "      <td>0.000000</td>\n",
       "      <td>2.574578</td>\n",
       "      <td>2.798287</td>\n",
       "      <td>33.447776</td>\n",
       "      <td>5.169772</td>\n",
       "      <td>-177.398589</td>\n",
       "      <td>-19.888994</td>\n",
       "    </tr>\n",
       "    <tr>\n",
       "      <th>25%</th>\n",
       "      <td>47.981537</td>\n",
       "      <td>NaN</td>\n",
       "      <td>NaN</td>\n",
       "      <td>NaN</td>\n",
       "      <td>NaN</td>\n",
       "      <td>5.000000</td>\n",
       "      <td>152.000000</td>\n",
       "      <td>5.000000</td>\n",
       "      <td>2.914394</td>\n",
       "      <td>2.976854</td>\n",
       "      <td>210.451227</td>\n",
       "      <td>32.398908</td>\n",
       "      <td>-76.718003</td>\n",
       "      <td>-4.986229</td>\n",
       "    </tr>\n",
       "    <tr>\n",
       "      <th>50%</th>\n",
       "      <td>57.663616</td>\n",
       "      <td>NaN</td>\n",
       "      <td>NaN</td>\n",
       "      <td>NaN</td>\n",
       "      <td>NaN</td>\n",
       "      <td>8.000000</td>\n",
       "      <td>256.000000</td>\n",
       "      <td>8.000000</td>\n",
       "      <td>2.967686</td>\n",
       "      <td>3.016188</td>\n",
       "      <td>267.861155</td>\n",
       "      <td>86.434031</td>\n",
       "      <td>22.367906</td>\n",
       "      <td>-2.812721</td>\n",
       "    </tr>\n",
       "    <tr>\n",
       "      <th>75%</th>\n",
       "      <td>78.733204</td>\n",
       "      <td>NaN</td>\n",
       "      <td>NaN</td>\n",
       "      <td>NaN</td>\n",
       "      <td>NaN</td>\n",
       "      <td>8.000000</td>\n",
       "      <td>368.000000</td>\n",
       "      <td>8.000000</td>\n",
       "      <td>3.023292</td>\n",
       "      <td>3.055193</td>\n",
       "      <td>304.464017</td>\n",
       "      <td>131.635098</td>\n",
       "      <td>95.866005</td>\n",
       "      <td>-1.267241</td>\n",
       "    </tr>\n",
       "    <tr>\n",
       "      <th>max</th>\n",
       "      <td>195.944911</td>\n",
       "      <td>NaN</td>\n",
       "      <td>NaN</td>\n",
       "      <td>NaN</td>\n",
       "      <td>NaN</td>\n",
       "      <td>9.000000</td>\n",
       "      <td>526.000000</td>\n",
       "      <td>9.000000</td>\n",
       "      <td>3.780044</td>\n",
       "      <td>3.210465</td>\n",
       "      <td>404.698580</td>\n",
       "      <td>194.995446</td>\n",
       "      <td>179.711760</td>\n",
       "      <td>9.835344</td>\n",
       "    </tr>\n",
       "  </tbody>\n",
       "</table>\n",
       "</div>"
      ],
      "text/plain": [
       "        err_0_max  err_corr_max  err_corr_rms  err_corr_95p_max  \\\n",
       "count  313.000000           0.0           0.0               0.0   \n",
       "mean    66.774123           NaN           NaN               NaN   \n",
       "std     29.358311           NaN           NaN               NaN   \n",
       "min     25.127928           NaN           NaN               NaN   \n",
       "25%     47.981537           NaN           NaN               NaN   \n",
       "50%     57.663616           NaN           NaN               NaN   \n",
       "75%     78.733204           NaN           NaN               NaN   \n",
       "max    195.944911           NaN           NaN               NaN   \n",
       "\n",
       "       err_corr_95p_rms   PETAL_LOC  DEVICE_LOC        PCID   LENGTH_R1  \\\n",
       "count               0.0  313.000000  313.000000  313.000000  313.000000   \n",
       "mean                NaN    6.185304  259.482428    6.185304    2.979301   \n",
       "std                 NaN    2.670622  142.755463    2.670622    0.116971   \n",
       "min                 NaN    0.000000    2.000000    0.000000    2.574578   \n",
       "25%                 NaN    5.000000  152.000000    5.000000    2.914394   \n",
       "50%                 NaN    8.000000  256.000000    8.000000    2.967686   \n",
       "75%                 NaN    8.000000  368.000000    8.000000    3.023292   \n",
       "max                 NaN    9.000000  526.000000    9.000000    3.780044   \n",
       "\n",
       "        LENGTH_R2    OFFSET_X    OFFSET_Y    OFFSET_T    OFFSET_P  \n",
       "count  313.000000  313.000000  313.000000  313.000000  313.000000  \n",
       "mean     3.018604  254.858559   85.358292   11.373268   -3.549093  \n",
       "std      0.066210   80.415716   54.397421  101.819863    4.059182  \n",
       "min      2.798287   33.447776    5.169772 -177.398589  -19.888994  \n",
       "25%      2.976854  210.451227   32.398908  -76.718003   -4.986229  \n",
       "50%      3.016188  267.861155   86.434031   22.367906   -2.812721  \n",
       "75%      3.055193  304.464017  131.635098   95.866005   -1.267241  \n",
       "max      3.210465  404.698580  194.995446  179.711760    9.835344  "
      ]
     },
     "execution_count": 24,
     "metadata": {},
     "output_type": "execute_result"
    }
   ],
   "source": [
    "gradedf.loc[posids2].describe()"
   ]
  },
  {
   "cell_type": "code",
   "execution_count": 18,
   "metadata": {},
   "outputs": [
    {
     "name": "stdout",
     "output_type": "stream",
     "text": [
      "M04441, M05252, M05766, M05767, M05814, M05831, M05872, M05882, M05923, M05932, M06590, M06711, M06768, M07339, M07679, M07847, M07915, M07916, M07917, M07942, M07946, M07947, M07963, M07970, M08027, M08030, M08054, M08058, M08135, M08156, M08180, M01380, M02287, M02580, M03247, M02334, M04250, M04369, M04596, M01133, M01222, M01224, M01713, M01747, M02194, M02272, M02318, M02345, M02641, M02654, M02899, M02926, M02981, M03034, M03217, M03219, M03253, M03277, M03600, M03602, M03612, M03707, M03977, M04093, M04116, M04366, M04510, M04550, M04761, M04873, M05322, M05486, M01228, M01257, M01841, M02349, M03029, M03271, M03507, M04244, M04759, M05629, M05779, M05936, M06195, M06198, M06201, M06212, M06497, M06499, M06815, M06821, M06854, M06875, M06883, M06889, M06963, M06976, M07034, M07116, M07120, M07122, M07142, M07169, M07238, M07243, M07259, M07261, M07313, M07466, M07473, M07475, M07599, M07600, M07757, M00411, M01934, M02373, M02624, M04408, M05711, M05747, M06090, M06548, M06786, M06794, M08208, M00636, M01033, M01081, M01094, M01100, M01109, M01214, M01267, M01455, M01473, M01605, M01630, M01691, M01703, M01717, M01724, M01789, M01808, M01862, M02023, M02024, M02031, M02117, M02249, M02257, M02261, M02286, M02300, M02301, M02317, M02353, M02378, M02382, M02392, M02397, M02401, M02413, M02459, M02472, M02476, M02484, M02492, M02514, M02523, M02533, M02537, M02542, M02543, M02566, M02572, M02575, M02577, M02587, M02596, M02598, M02601, M02606, M02610, M02649, M02651, M02666, M02682, M02699, M02704, M02724, M02737, M02781, M02801, M02818, M02824, M02832, M02834, M02835, M02846, M02849, M02851, M02857, M02871, M02902, M02904, M02913, M02919, M02922, M02937, M02939, M02969, M02974, M02976, M03001, M03012, M03018, M03019, M03030, M03045, M03072, M03117, M03121, M03137, M03197, M03212, M03216, M03304, M03317, M03342, M03343, M03352, M03367, M03371, M03374, M03417, M03527, M03561, M03570, M04104, M04105, M04124, M04200, M04242, M04275, M04276, M04377, M04397, M04398, M04436, M04453, M04458, M04462, M04470, M04481, M04526, M04531, M04562, M04563, M04566, M04586, M04592, M04618, M04623, M04624, M04701, M04801, M04909, M04910, M04912, M04914, M04916, M04917, M04924, M04960, M05076, M05093, M05098, M05101, M05106, M05124, M05126, M05127, M05158, M05167, M05177, M05244, M05304, M05316, M05371, M05402, M05403, M05459, M05505, M05517, M05524, M05551, M05583, M05958, M01092, M01540, M01786, M01859, M02128, M02258, M02427, M04771, M07251, M07494, M07589, M07590, M07913\n"
     ]
    }
   ],
   "source": [
    "print(\", \".join(posids2))"
   ]
  },
  {
   "cell_type": "code",
   "execution_count": 11,
   "metadata": {},
   "outputs": [
    {
     "data": {
      "text/plain": [
       "332"
      ]
     },
     "execution_count": 11,
     "metadata": {},
     "output_type": "execute_result"
    }
   ],
   "source": [
    "len(posids1)"
   ]
  },
  {
   "cell_type": "code",
   "execution_count": 12,
   "metadata": {},
   "outputs": [
    {
     "data": {
      "text/plain": [
       "313"
      ]
     },
     "execution_count": 12,
     "metadata": {},
     "output_type": "execute_result"
    }
   ],
   "source": [
    "len(posids2)"
   ]
  },
  {
   "cell_type": "code",
   "execution_count": 13,
   "metadata": {},
   "outputs": [],
   "source": [
    "posids = set(posids1) & set(posids2)"
   ]
  },
  {
   "cell_type": "code",
   "execution_count": 15,
   "metadata": {},
   "outputs": [
    {
     "data": {
      "text/plain": [
       "{'M02899', 'M04596', 'M05322', 'M05882'}"
      ]
     },
     "execution_count": 15,
     "metadata": {},
     "output_type": "execute_result"
    }
   ],
   "source": [
    "set(posids2) ^ posids"
   ]
  },
  {
   "cell_type": "code",
   "execution_count": 10,
   "metadata": {},
   "outputs": [],
   "source": [
    "ok = ['M00411', 'M00636', 'M01033', 'M01081', 'M01092', 'M01094', 'M01100', 'M01109', 'M01133', 'M01214', 'M01222', 'M01224', 'M01228', 'M01257', 'M01267', 'M01455', 'M01473', 'M01540', 'M01605', 'M01630', 'M01691', 'M01703', 'M01713', 'M01717', 'M01724', 'M01747', 'M01786', 'M01789', 'M01808', 'M01841', 'M01859', 'M01862', 'M01934', 'M02023', 'M02024', 'M02031', 'M02117', 'M02128', 'M02194', 'M02249', 'M02257', 'M02258', 'M02261', 'M02272', 'M02286', 'M02287', 'M02300', 'M02301', 'M02317', 'M02318', 'M02334', 'M02345', 'M02349', 'M02353', 'M02373', 'M02378', 'M02382', 'M02392', 'M02397', 'M02401', 'M02413', 'M02427', 'M02459', 'M02472', 'M02476', 'M02484', 'M02492', 'M02514', 'M02523', 'M02533', 'M02537', 'M02542', 'M02543', 'M02566', 'M02572', 'M02575', 'M02577', 'M02580', 'M02587', 'M02596', 'M02598', 'M02601', 'M02606', 'M02610', 'M02624', 'M02641', 'M02649', 'M02651', 'M02654', 'M02666', 'M02682', 'M02699', 'M02704', 'M02724', 'M02737', 'M02781', 'M02801', 'M02818', 'M02824', 'M02832', 'M02834', 'M02835', 'M02846', 'M02849', 'M02851', 'M02857', 'M02871', 'M02899', 'M02902', 'M02904', 'M02913', 'M02919', 'M02922', 'M02926', 'M02937', 'M02939', 'M02969', 'M02974', 'M02976', 'M02981', 'M03001', 'M03012', 'M03018', 'M03019', 'M03029', 'M03030', 'M03034', 'M03045', 'M03072', 'M03117', 'M03121', 'M03137', 'M03197', 'M03212', 'M03216', 'M03217', 'M03219', 'M03247', 'M03253', 'M03271', 'M03277', 'M03304', 'M03317', 'M03342', 'M03343', 'M03352', 'M03367', 'M03371', 'M03374', 'M03417', 'M03507', 'M03527', 'M03561', 'M03570', 'M03602', 'M03612', 'M03707', 'M03977', 'M04093', 'M04104', 'M04105', 'M04116', 'M04200', 'M04242', 'M04244', 'M04250', 'M04275', 'M04276', 'M04366', 'M04369', 'M04377', 'M04397', 'M04398', 'M04436', 'M04441', 'M04453', 'M04458', 'M04470', 'M04481', 'M04510', 'M04526', 'M04531', 'M04550', 'M04562', 'M04563', 'M04566', 'M04586', 'M04592', 'M04596', 'M04618', 'M04623', 'M04624', 'M04701', 'M04759', 'M04761', 'M04771', 'M04801', 'M04873', 'M04909', 'M04910', 'M04912', 'M04914', 'M04916', 'M04917', 'M04924', 'M04960', 'M05076', 'M05093', 'M05098', 'M05101', 'M05106', 'M05124', 'M05126', 'M05127', 'M05158', 'M05167', 'M05177', 'M05244', 'M05252', 'M05304', 'M05316', 'M05322', 'M05371', 'M05402', 'M05403', 'M05459', 'M05486', 'M05505', 'M05517', 'M05524', 'M05551', 'M05583', 'M05629', 'M05711', 'M05747', 'M05766', 'M05767', 'M05779', 'M05814', 'M05831', 'M05872', 'M05923', 'M05932', 'M05936', 'M05958', 'M06090', 'M06195', 'M06198', 'M06201', 'M06212', 'M06497', 'M06499', 'M06548', 'M06590', 'M06711', 'M06768', 'M06786', 'M06794', 'M06815', 'M06821', 'M06854', 'M06875', 'M06883', 'M06889', 'M06963', 'M06976', 'M07034', 'M07116', 'M07120', 'M07122', 'M07142', 'M07169', 'M07238', 'M07243', 'M07251', 'M07259', 'M07261', 'M07313', 'M07339', 'M07466', 'M07473', 'M07475', 'M07494', 'M07589', 'M07590', 'M07599', 'M07600', 'M07679', 'M07757', 'M07847', 'M07913', 'M07915', 'M07916', 'M07917', 'M07942', 'M07946', 'M07947', 'M07963', 'M07970', 'M08027', 'M08030', 'M08054', 'M08058', 'M08135', 'M08156', 'M08180', 'M08208']"
   ]
  },
  {
   "cell_type": "code",
   "execution_count": 19,
   "metadata": {},
   "outputs": [
    {
     "name": "stdout",
     "output_type": "stream",
     "text": [
      "good calibration and xytest blind move error < 200 microns (309 positioners):\n",
      "\n",
      "M01862, M04550, M04771, M03018, M01222, M02566, M01267, M04586, M04408, M04453, M07589, M03271, M01473, M06963, M02801, M07238, M02472, M05177, M05831, M07251, M04910, M03034, M04458, M03029, M04526, M07599, M01841, M05158, M01224, M04592, M01747, M04623, M03012, M02682, M03137, M07679, M02543, M02922, M03707, M05098, M05747, M05932, M04960, M07947, M06497, M05923, M01033, M06195, M02919, M06794, M03277, M01786, M03072, M02835, M02832, M01703, M04398, M03197, M02575, M07473, M08156, M07970, M02334, M02624, M05371, M06875, M01109, M07600, M07963, M02939, M01092, M04124, M04873, M02492, M02577, M02596, M07116, M07942, M04914, M04562, M04244, M06201, M05459, M02610, M01257, M03602, M02317, M04200, M04470, M03507, M02287, M05127, M03117, M03217, M02824, M05076, M05505, M02413, M02851, M02523, M02937, M04912, M03343, M02128, M07946, M04436, M05093, M01934, M03030, M01789, M05167, M08058, M07142, M01100, M02818, M03253, M01717, M05517, M03121, M02913, M02598, M08135, M08208, M07243, M07917, M05124, M02666, M01605, M02537, M07313, M02349, M05126, M06883, M05551, M04510, M02378, M03367, M02484, M01228, M02117, M02023, M01713, M03045, M07475, M03612, M04618, M03352, M03374, M02969, M02258, M04917, M02976, M05252, M06198, M03342, M05403, M01455, M02542, M08030, M04531, M07915, M03212, M05779, M05583, M02382, M04366, M02974, M02737, M07494, M02641, M02651, M07913, M03977, M02392, M04369, M07339, M06976, M07034, M02345, M03219, M05766, M02601, M02606, M07916, M05814, M02781, M06711, M03001, M05101, M07590, M04104, M04566, M04481, M02587, M06768, M01859, M03317, M02353, M02724, M02846, M05304, M02476, M04116, M07757, M08027, M04250, M04397, M02024, M01214, M07259, M04801, M02834, M04916, M02654, M05958, M06854, M04909, M06090, M04242, M02286, M04701, M05106, M04377, M02459, M05244, M07466, M05872, M01724, M03247, M02257, M01630, M03570, M04275, M02857, M01081, M05767, M02401, M04276, M01094, M04761, M03371, M00636, M02514, M03600, M04105, M06815, M05936, M02871, M05524, M04624, M01540, M02373, M07120, M04093, M02194, M04759, M02427, M05316, M07847, M02849, M04462, M01808, M02249, M02649, M06889, M04563, M03304, M05711, M08054, M04441, M02699, M02397, M06590, M02533, M02318, M03019, M04924, M05629, M02580, M03561, M01133, M05486, M02301, M07261, M00411, M06786, M03417, M02981, M07122, M06499, M03216, M03527, M02926, M08180, M05402, M02904, M02704, M02300, M06212, M02902, M02031, M06821, M06548, M01691, M01380, M07169, M02572, M02272, M02261\n",
      "\n"
     ]
    }
   ],
   "source": [
    "posids = list(posids)\n",
    "print(f'good calibration and xytest blind move error < 200 microns ({len(posids)} positioners):\\n\\n{\", \".join(posids)}\\n')"
   ]
  },
  {
   "cell_type": "code",
   "execution_count": 16,
   "metadata": {},
   "outputs": [
    {
     "name": "stdout",
     "output_type": "stream",
     "text": [
      "['M01862', 'M04550', 'M04771', 'M03018', 'M01222', 'M02566', 'M01267', 'M04586', 'M04408', 'M04453', 'M07589', 'M03271', 'M01473', 'M06963', 'M02801', 'M07238', 'M02472', 'M05177', 'M05831', 'M07251', 'M04910', 'M03034', 'M04458', 'M03029', 'M04526', 'M07599', 'M01841', 'M05158', 'M01224', 'M04592', 'M01747', 'M04623', 'M03012', 'M02682', 'M03137', 'M07679', 'M02543', 'M02922', 'M03707', 'M05098', 'M05747', 'M05932', 'M04960', 'M07947', 'M06497', 'M05923', 'M01033', 'M06195', 'M02919', 'M06794', 'M03277', 'M01786', 'M03072', 'M02835', 'M02832', 'M01703', 'M04398', 'M03197', 'M02575', 'M07473', 'M08156', 'M07970', 'M02334', 'M02624', 'M05371', 'M06875', 'M01109', 'M07600', 'M07963', 'M02939', 'M01092', 'M04124', 'M04873', 'M02492', 'M02577', 'M02596', 'M07116', 'M07942', 'M04914', 'M04562', 'M04244', 'M06201', 'M05459', 'M02610', 'M01257', 'M03602', 'M02317', 'M04200', 'M04470', 'M03507', 'M02287', 'M05127', 'M03117', 'M03217', 'M02824', 'M05076', 'M05505', 'M02413', 'M02851', 'M02523', 'M02937', 'M04912', 'M03343', 'M02128', 'M07946', 'M04436', 'M05093', 'M01934', 'M03030', 'M01789', 'M05167', 'M08058', 'M07142', 'M01100', 'M02818', 'M03253', 'M01717', 'M05517', 'M03121', 'M02913', 'M02598', 'M08135', 'M08208', 'M07243', 'M07917', 'M05124', 'M02666', 'M01605', 'M02537', 'M07313', 'M02349', 'M05126', 'M06883', 'M05551', 'M04510', 'M02378', 'M03367', 'M02484', 'M01228', 'M02117', 'M02023', 'M01713', 'M03045', 'M07475', 'M03612', 'M04618', 'M03352', 'M03374', 'M02969', 'M02258', 'M04917', 'M02976', 'M05252', 'M06198', 'M03342', 'M05403', 'M01455', 'M02542', 'M08030', 'M04531', 'M07915', 'M03212', 'M05779', 'M05583', 'M02382', 'M04366', 'M02974', 'M02737', 'M07494', 'M02641', 'M02651', 'M07913', 'M03977', 'M02392', 'M04369', 'M07339', 'M06976', 'M07034', 'M02345', 'M03219', 'M05766', 'M02601', 'M02606', 'M07916', 'M05814', 'M02781', 'M06711', 'M03001', 'M05101', 'M07590', 'M04104', 'M04566', 'M04481', 'M02587', 'M06768', 'M01859', 'M03317', 'M02353', 'M02724', 'M02846', 'M05304', 'M02476', 'M04116', 'M07757', 'M08027', 'M04250', 'M04397', 'M02024', 'M01214', 'M07259', 'M04801', 'M02834', 'M04916', 'M02654', 'M05958', 'M06854', 'M04909', 'M06090', 'M04242', 'M02286', 'M04701', 'M05106', 'M04377', 'M02459', 'M05244', 'M07466', 'M05872', 'M01724', 'M03247', 'M02257', 'M01630', 'M03570', 'M04275', 'M02857', 'M01081', 'M05767', 'M02401', 'M04276', 'M01094', 'M04761', 'M03371', 'M00636', 'M02514', 'M03600', 'M04105', 'M06815', 'M05936', 'M02871', 'M05524', 'M04624', 'M01540', 'M02373', 'M07120', 'M04093', 'M02194', 'M04759', 'M02427', 'M05316', 'M07847', 'M02849', 'M04462', 'M01808', 'M02249', 'M02649', 'M06889', 'M04563', 'M03304', 'M05711', 'M08054', 'M04441', 'M02699', 'M02397', 'M06590', 'M02533', 'M02318', 'M03019', 'M04924', 'M05629', 'M02580', 'M03561', 'M01133', 'M05486', 'M02301', 'M07261', 'M00411', 'M06786', 'M03417', 'M02981', 'M07122', 'M06499', 'M03216', 'M03527', 'M02926', 'M08180', 'M05402', 'M02904', 'M02704', 'M02300', 'M06212', 'M02902', 'M02031', 'M06821', 'M06548', 'M01691', 'M01380', 'M07169', 'M02572', 'M02272', 'M02261']\n"
     ]
    }
   ],
   "source": []
  },
  {
   "cell_type": "code",
   "execution_count": 11,
   "metadata": {},
   "outputs": [
    {
     "data": {
      "text/plain": [
       "309"
      ]
     },
     "execution_count": 11,
     "metadata": {},
     "output_type": "execute_result"
    }
   ],
   "source": [
    "len(posids)"
   ]
  },
  {
   "cell_type": "code",
   "execution_count": 14,
   "metadata": {},
   "outputs": [
    {
     "name": "stdout",
     "output_type": "stream",
     "text": [
      "M04408 Duan wants to enable:  True, Parker wants to enable: False\n",
      "M05322 Duan wants to enable: False, Parker wants to enable:  True\n",
      "M04596 Duan wants to enable: False, Parker wants to enable:  True\n",
      "M02899 Duan wants to enable: False, Parker wants to enable:  True\n",
      "M04124 Duan wants to enable:  True, Parker wants to enable: False\n",
      "M03600 Duan wants to enable:  True, Parker wants to enable: False\n",
      "M04462 Duan wants to enable:  True, Parker wants to enable: False\n",
      "M01380 Duan wants to enable:  True, Parker wants to enable: False\n"
     ]
    }
   ],
   "source": [
    "for posid in posids ^ set(ok):\n",
    "    print(f'{posid} Duan wants to enable: {str(posid in posids):>5}, Parker wants to enable: {str(posid in ok):>5}')"
   ]
  },
  {
   "cell_type": "code",
   "execution_count": null,
   "metadata": {},
   "outputs": [],
   "source": []
  }
 ],
 "metadata": {
  "kernelspec": {
   "display_name": "Python 3",
   "language": "python",
   "name": "python3"
  },
  "language_info": {
   "codemirror_mode": {
    "name": "ipython",
    "version": 3
   },
   "file_extension": ".py",
   "mimetype": "text/x-python",
   "name": "python",
   "nbconvert_exporter": "python",
   "pygments_lexer": "ipython3",
   "version": "3.7.6"
  }
 },
 "nbformat": 4,
 "nbformat_minor": 4
}
